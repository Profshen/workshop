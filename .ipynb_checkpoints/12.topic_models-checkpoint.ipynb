{
 "cells": [
  {
   "cell_type": "markdown",
   "metadata": {
    "slideshow": {
     "slide_type": "slide"
    }
   },
   "source": [
    "### 2017年计算传播学工作坊\n",
    "***\n",
    "***\n",
    "# 主题模型\n",
    "\n",
    "***\n",
    "***\n",
    "\n",
    "王成军\n",
    "\n",
    "wangchengjun@nju.edu.cn\n",
    "\n",
    "计算传播网 http://computational-communication.com"
   ]
  },
  {
   "cell_type": "markdown",
   "metadata": {
    "slideshow": {
     "slide_type": "slide"
    }
   },
   "source": [
    "2014年高考前夕，百度“基于海量作文范文和搜索数据，利用概率主题模型，预测2014年高考作文的命题方向”。如上图所示，共分为了六个主题：时间、生命、民族、教育、心灵、发展。而每个主题下面又包括了一些具体的关键词。比如，生命的主题对应：平凡、自由、美丽、梦想、奋斗、青春、快乐、孤独。\n",
    "\n",
    "[Read more](https://site.douban.com/146782/widget/notes/15462869/note/356806087/)"
   ]
  },
  {
   "cell_type": "markdown",
   "metadata": {
    "slideshow": {
     "slide_type": "fragment"
    }
   },
   "source": [
    "![](./files/baidu_gaokao.jpg)"
   ]
  },
  {
   "cell_type": "markdown",
   "metadata": {
    "slideshow": {
     "slide_type": "slide"
    }
   },
   "source": [
    "# latent Dirichlet allocation (LDA)\n",
    "\n",
    "The simplest topic model (on which all others are based) is latent Dirichlet allocation (LDA). \n",
    "- LDA is a generative model that infers unobserved meanings from a large set of observations. \n",
    "\n",
    "## Reference\n",
    "\n",
    "- Blei DM, Ng J, Jordan MI. Latent dirichlet allocation. J Mach Learn Res. 2003; 3: 993–1022.\n",
    "- Blei DM, Lafferty JD. Correction: a correlated topic model of science. Ann Appl Stat. 2007; 1: 634. \n",
    "- Blei DM. Probabilistic topic models. Commun ACM. 2012; 55: 55–65.\n",
    "- Chandra Y, Jiang LC, Wang C-J (2016) Mining Social Entrepreneurship Strategies Using Topic Modeling. PLoS ONE 11(3): e0151342. doi:10.1371/journal.pone.0151342"
   ]
  },
  {
   "cell_type": "markdown",
   "metadata": {
    "slideshow": {
     "slide_type": "slide"
    }
   },
   "source": [
    "<img src = './img/topic.png' width = 1000>"
   ]
  },
  {
   "cell_type": "markdown",
   "metadata": {
    "collapsed": true,
    "slideshow": {
     "slide_type": "subslide"
    }
   },
   "source": [
    "- Topic models assume that each document contains a mixture of topics\n",
    "    - Topics are considered latent/unobserved variables that stand between the documents and terms\n",
    "\n",
    "It is impossible to directly assess the relationships between topics and documents and between topics and terms. \n",
    "- What can be directly observed is the distribution of terms over documents, which is known as the document term matrix (DTM).\n",
    "\n",
    "Topic models algorithmically identify the best set of latent variables (topics) that can best explain the observed distribution of terms in the documents. "
   ]
  },
  {
   "cell_type": "markdown",
   "metadata": {
    "slideshow": {
     "slide_type": "subslide"
    }
   },
   "source": [
    "The DTM is further decomposed into two matrices：\n",
    "- a term-topic matrix (TTM) \n",
    "- a topic-document matrix (TDM)\n",
    "\n",
    "Each document can be assigned to a primary topic that demonstrates the highest topic-document probability and can then be linked to other topics with declining probabilities."
   ]
  },
  {
   "cell_type": "markdown",
   "metadata": {
    "slideshow": {
     "slide_type": "subslide"
    }
   },
   "source": [
    "Assume K topics are in D documents, and each topic is denoted with $\\phi_{1:K}$. \n",
    "\n",
    "Each topic $\\phi_K$ is a distribution of fixed words in the given documents. \n",
    "\n",
    "The topic proportion in the document is denoted as $\\theta_d$. \n",
    "- e.g., the kth topic's proportion in document d is $\\theta_{d, k}$. \n",
    "\n",
    "Let $w_{d,n}$ denote the nth term in document d. \n",
    "\n",
    "Further, topic models assign topics to a document and its terms. \n",
    "- For example, the topic assigned to document d is denoted as $z_d$, \n",
    "    - and the topic assigned to the nth term in document d is denoted as $z_{d,n}$. "
   ]
  },
  {
   "cell_type": "markdown",
   "metadata": {
    "slideshow": {
     "slide_type": "subslide"
    }
   },
   "source": [
    "According to Blei et al. the joint distribution of $\\phi_{1:K}$,$\\theta_{1:D}$, $z_{1:D}$ and $w_{d, n}$ plus the generative process for LDA can be expressed as:\n",
    "\n",
    "$ p(\\phi_{1:K}, \\theta_{1:D}, z_{1:D}, w_{d, n}) $ = \n",
    "\n",
    "$\\prod_{i=1}^{K} p(\\phi_i) \\prod_{d =1}^D p(\\theta_d)(\\prod_{n=1}^N p(z_{d,n} \\mid \\theta_d) \\times p(w_{d, n} \\mid \\phi_{1:K}, Z_{d, n})  ) $\n"
   ]
  },
  {
   "cell_type": "markdown",
   "metadata": {
    "slideshow": {
     "slide_type": "subslide"
    }
   },
   "source": [
    "Note that $\\phi_{1:k},\\theta_{1:D},and z_{1:D}$ are latent, unobservable variables. Thus, the computational challenge of LDA is to compute the conditional distribution of them given the observable specific words in the documents $w_{d, n}$. \n",
    "\n",
    "Accordingly, the posterior distribution of LDA can be expressed as:\n",
    "\n",
    "## $p(\\phi_{1:K}, \\theta_{1:D}, z_{1:D} \\mid w_{d, n}) = \\frac{p(\\phi_{1:K}, \\theta_{1:D}, z_{1:D}, w_{d, n})}{p(w_{1:D})}$"
   ]
  },
  {
   "cell_type": "markdown",
   "metadata": {
    "slideshow": {
     "slide_type": "subslide"
    }
   },
   "source": [
    "Because the number of possible topic structures is exponentially large, it is impossible to compute the posterior of LDA. Topic models aim to develop efficient algorithms to approximate the posterior of LDA. \n",
    "- There are two categories of algorithms: \n",
    "    - sampling-based algorithms\n",
    "    - variational algorithms \n",
    "    \n",
    "Using the Gibbs sampling method, we can build a Markov chain for the sequence of random variables (see Eq 1). The sampling algorithm is applied to the chain to sample from the limited distribution, and it approximates the posterior. "
   ]
  },
  {
   "cell_type": "markdown",
   "metadata": {
    "collapsed": true,
    "slideshow": {
     "slide_type": "slide"
    }
   },
   "source": [
    "\n",
    "# Gensim\n",
    "\n",
    "Unfortunately, scikit-learn does not support latent Dirichlet allocation.\n",
    "\n",
    "Therefore, we are going to use the gensim package in Python. \n",
    "\n",
    "Gensim is developed by Radim Řehůřek,who is a machine learning researcher and consultant in the Czech Republic. We must start by installing it. We can achieve this by running one of the following commands:\n",
    "\n",
    "> # pip install gensim\n"
   ]
  },
  {
   "cell_type": "code",
   "execution_count": 14,
   "metadata": {
    "ExecuteTime": {
     "end_time": "2017-05-18T20:42:56.990249",
     "start_time": "2017-05-18T20:42:56.595087"
    },
    "collapsed": false,
    "slideshow": {
     "slide_type": "slide"
    }
   },
   "outputs": [],
   "source": [
    "%matplotlib inline\n",
    "from __future__ import print_function\n",
    "from wordcloud import WordCloud\n",
    "from gensim import corpora, models, similarities,  matutils\n",
    "import matplotlib.pyplot as plt\n",
    "import numpy as np"
   ]
  },
  {
   "cell_type": "markdown",
   "metadata": {
    "slideshow": {
     "slide_type": "slide"
    }
   },
   "source": [
    "# Download data\n",
    "\n",
    "<del>http://www.cs.princeton.edu/~blei/lda-c/ap.tgz</del>\n",
    "\n",
    "http://www.cs.columbia.edu/~blei/lda-c/\n",
    "\n",
    "Unzip the data and put them into /Users/chengjun/bigdata/ap/"
   ]
  },
  {
   "cell_type": "code",
   "execution_count": 22,
   "metadata": {
    "collapsed": false,
    "slideshow": {
     "slide_type": "slide"
    }
   },
   "outputs": [],
   "source": [
    "# Load the data\n",
    "corpus = corpora.BleiCorpus('/Users/chengjun/bigdata/ap/ap.dat',\\\n",
    "                            '/Users/chengjun/bigdata/ap/vocab.txt')"
   ]
  },
  {
   "cell_type": "code",
   "execution_count": 23,
   "metadata": {
    "collapsed": false,
    "slideshow": {
     "slide_type": "subslide"
    }
   },
   "outputs": [
    {
     "data": {
      "text/plain": [
       "'__class__ __delattr__ __dict__ __doc__ __format__ __getattribute__ __getitem__ __hash__ __init__ __iter__ __len__ __module__ __new__ __reduce__ __reduce_ex__ __repr__ __setattr__ __sizeof__ __str__ __subclasshook__ __weakref__ _smart_save docbyoffset fname id2word index length line2doc load save save_corpus serialize'"
      ]
     },
     "execution_count": 23,
     "metadata": {},
     "output_type": "execute_result"
    }
   ],
   "source": [
    "' '.join(dir(corpus))"
   ]
  },
  {
   "cell_type": "code",
   "execution_count": 24,
   "metadata": {
    "collapsed": false,
    "slideshow": {
     "slide_type": "subslide"
    }
   },
   "outputs": [
    {
     "data": {
      "text/plain": [
       "[(0, u'i'), (1, u'new'), (2, u'percent')]"
      ]
     },
     "execution_count": 24,
     "metadata": {},
     "output_type": "execute_result"
    }
   ],
   "source": [
    "corpus.id2word.items()[:3]"
   ]
  },
  {
   "cell_type": "markdown",
   "metadata": {
    "slideshow": {
     "slide_type": "slide"
    }
   },
   "source": [
    "# Build the topic model"
   ]
  },
  {
   "cell_type": "code",
   "execution_count": 25,
   "metadata": {
    "collapsed": true,
    "slideshow": {
     "slide_type": "fragment"
    }
   },
   "outputs": [],
   "source": [
    "NUM_TOPICS = 100"
   ]
  },
  {
   "cell_type": "code",
   "execution_count": 26,
   "metadata": {
    "collapsed": false,
    "slideshow": {
     "slide_type": "fragment"
    }
   },
   "outputs": [
    {
     "name": "stderr",
     "output_type": "stream",
     "text": [
      "/Users/chengjun/anaconda/lib/python2.7/site-packages/gensim/models/ldamodel.py:379: VisibleDeprecationWarning: non integer (and non boolean) array-likes will not be accepted as indices in the future\n",
      "  expElogbetad = self.expElogbeta[:, ids]\n",
      "/Users/chengjun/anaconda/lib/python2.7/site-packages/gensim/models/ldamodel.py:404: VisibleDeprecationWarning: non integer (and non boolean) array-likes will not be accepted as indices in the future\n",
      "  sstats[:, ids] += numpy.outer(expElogthetad.T, cts / phinorm)\n",
      "/Users/chengjun/anaconda/lib/python2.7/site-packages/gensim/models/ldamodel.py:659: VisibleDeprecationWarning: using a non-integer number instead of an integer will result in an error in the future\n",
      "  score += numpy.sum(cnt * logsumexp(Elogthetad + Elogbeta[:, id]) for id, cnt in doc)\n"
     ]
    }
   ],
   "source": [
    "model = models.ldamodel.LdaModel(\n",
    "    corpus, num_topics=NUM_TOPICS, \n",
    "    id2word=corpus.id2word, \n",
    "    alpha=None)"
   ]
  },
  {
   "cell_type": "code",
   "execution_count": 27,
   "metadata": {
    "collapsed": false,
    "slideshow": {
     "slide_type": "subslide"
    }
   },
   "outputs": [
    {
     "data": {
      "text/plain": [
       "'__class__ __delattr__ __dict__ __doc__ __format__ __getattribute__ __getitem__ __hash__ __init__ __module__ __new__ __reduce__ __reduce_ex__ __repr__ __setattr__ __sizeof__ __str__ __subclasshook__ __weakref__ _apply _smart_save alpha bound chunksize clear decay dispatcher distributed do_estep do_mstep eta eval_every expElogbeta gamma_threshold id2word inference iterations load log_perplexity num_terms num_topics num_updates numworkers offset optimize_alpha passes print_topic print_topics save show_topic show_topics state sync_state top_topics update update_alpha update_every'"
      ]
     },
     "execution_count": 27,
     "metadata": {},
     "output_type": "execute_result"
    }
   ],
   "source": [
    "' '.join(dir(model))"
   ]
  },
  {
   "cell_type": "markdown",
   "metadata": {
    "slideshow": {
     "slide_type": "slide"
    }
   },
   "source": [
    "# We can see the list of topics a document refers to \n",
    "\n",
    "by using the model[doc] syntax:"
   ]
  },
  {
   "cell_type": "code",
   "execution_count": 28,
   "metadata": {
    "collapsed": true,
    "slideshow": {
     "slide_type": "fragment"
    }
   },
   "outputs": [],
   "source": [
    "document_topics = [model[c] for c in corpus]"
   ]
  },
  {
   "cell_type": "code",
   "execution_count": 29,
   "metadata": {
    "collapsed": false,
    "slideshow": {
     "slide_type": "fragment"
    }
   },
   "outputs": [
    {
     "data": {
      "text/plain": [
       "[(1, 0.012173218478465178),\n",
       " (5, 0.010844598121070434),\n",
       " (9, 0.017341043056838871),\n",
       " (11, 0.024468311850992307),\n",
       " (13, 0.011713551338282521),\n",
       " (17, 0.12008191700644692),\n",
       " (26, 0.2653896038945065),\n",
       " (36, 0.016205103283848322),\n",
       " (40, 0.063642155983975865),\n",
       " (42, 0.10912551497030909),\n",
       " (43, 0.18969307606619615),\n",
       " (54, 0.029152810319599372),\n",
       " (70, 0.027382335898959255),\n",
       " (73, 0.079544001401190376)]"
      ]
     },
     "execution_count": 29,
     "metadata": {},
     "output_type": "execute_result"
    }
   ],
   "source": [
    "# how many topics does one document cover?\n",
    "document_topics[2]"
   ]
  },
  {
   "cell_type": "code",
   "execution_count": 30,
   "metadata": {
    "collapsed": false,
    "slideshow": {
     "slide_type": "slide"
    }
   },
   "outputs": [
    {
     "data": {
      "text/plain": [
       "[(0.010029947066157719, u'cents'),\n",
       " (0.0084518751921951272, u'sheet'),\n",
       " (0.006971130612136031, u'people'),\n",
       " (0.0069681226790944068, u'videos'),\n",
       " (0.0061501028198266746, u'designs'),\n",
       " (0.0059801669571577327, u'threeway'),\n",
       " (0.0051079365521994723, u'mca'),\n",
       " (0.0042408541343766145, u'new'),\n",
       " (0.0038503471959112092, u'today'),\n",
       " (0.0034815721467352559, u'year')]"
      ]
     },
     "execution_count": 30,
     "metadata": {},
     "output_type": "execute_result"
    }
   ],
   "source": [
    "# The first topic\n",
    "# format: weight, term\n",
    "model.show_topic(0, 10)"
   ]
  },
  {
   "cell_type": "code",
   "execution_count": 31,
   "metadata": {
    "collapsed": false,
    "slideshow": {
     "slide_type": "subslide"
    }
   },
   "outputs": [
    {
     "data": {
      "text/plain": [
       "[(0.012503720479598517, u'billion'),\n",
       " (0.0093416080644276624, u'bomber'),\n",
       " (0.0080440160210163321, u'fiscal'),\n",
       " (0.0073821380604033784, u'defense'),\n",
       " (0.0059336615162439077, u'air'),\n",
       " (0.0057387426153885654, u'safety'),\n",
       " (0.005239704830984784, u'year'),\n",
       " (0.0047342102096198735, u'nuclear'),\n",
       " (0.0046810109846632626, u'north'),\n",
       " (0.004498783524243005, u'million')]"
      ]
     },
     "execution_count": 31,
     "metadata": {},
     "output_type": "execute_result"
    }
   ],
   "source": [
    "# The 100 topic\n",
    "# format: weight, term\n",
    "model.show_topic(99, 10)"
   ]
  },
  {
   "cell_type": "code",
   "execution_count": 32,
   "metadata": {
    "collapsed": false,
    "slideshow": {
     "slide_type": "subslide"
    }
   },
   "outputs": [
    {
     "data": {
      "text/plain": [
       "[(0.010029947066157719, u'cents'),\n",
       " (0.0084518751921951272, u'sheet'),\n",
       " (0.006971130612136031, u'people'),\n",
       " (0.0069681226790944068, u'videos'),\n",
       " (0.0061501028198266746, u'designs')]"
      ]
     },
     "execution_count": 32,
     "metadata": {},
     "output_type": "execute_result"
    }
   ],
   "source": [
    "words = model.show_topic(0, 5)\n",
    "words"
   ]
  },
  {
   "cell_type": "code",
   "execution_count": 33,
   "metadata": {
    "collapsed": false,
    "slideshow": {
     "slide_type": "subslide"
    }
   },
   "outputs": [
    {
     "data": {
      "text/plain": [
       "[u'0.011*government + 0.010*hughes + 0.009*communist + 0.008*party + 0.007*fellows + 0.006*leader + 0.006*cordon + 0.005*people + 0.005*president + 0.005*fair',\n",
       " u'0.132*cdy + 0.118*clr + 0.042*rn + 0.011*m + 0.010*rome + 0.008*frankfurt + 0.005*new + 0.004*paris + 0.004*tokyo + 0.003*i',\n",
       " u'0.033*percent + 0.012*year + 0.011*billion + 0.009*states + 0.006*last + 0.005*ec + 0.005*years + 0.005*new + 0.005*tax + 0.005*orders',\n",
       " u'0.014*percent + 0.011*million + 0.007*africa + 0.007*south + 0.007*sales + 0.006*share + 0.006*year + 0.005*wednesdays + 0.005*new + 0.005*mandela']"
      ]
     },
     "execution_count": 33,
     "metadata": {},
     "output_type": "execute_result"
    }
   ],
   "source": [
    "model.show_topics(4)"
   ]
  },
  {
   "cell_type": "code",
   "execution_count": 34,
   "metadata": {
    "collapsed": false,
    "slideshow": {
     "slide_type": "subslide"
    }
   },
   "outputs": [
    {
     "name": "stdout",
     "output_type": "stream",
     "text": [
      "0.0100299470662 cents\n",
      "0.0084518751922 sheet\n",
      "0.00697113061214 people\n",
      "0.00696812267909 videos\n",
      "0.00615010281983 designs\n"
     ]
    }
   ],
   "source": [
    "for f, w in words[:10]:\n",
    "    print(f, w)"
   ]
  },
  {
   "cell_type": "code",
   "execution_count": 39,
   "metadata": {
    "collapsed": false,
    "slideshow": {
     "slide_type": "slide"
    }
   },
   "outputs": [],
   "source": [
    "# write out topcis with 10 terms with weights\n",
    "for ti in range(model.num_topics):\n",
    "    words = model.show_topic(ti, 10)\n",
    "    tf = sum(f for f, w in words)\n",
    "    with open('/Users/chengjun/github/workshop/data/topics_term_weight.txt', 'a') as output:\n",
    "        for f, w in words:\n",
    "            line = str(ti) + '\\t' +  w + '\\t' + str(f/tf) \n",
    "            output.write(line + '\\n')"
   ]
  },
  {
   "cell_type": "code",
   "execution_count": 40,
   "metadata": {
    "collapsed": true,
    "slideshow": {
     "slide_type": "fragment"
    }
   },
   "outputs": [],
   "source": [
    "# We first identify the most discussed topic, i.e., the one with the\n",
    "# highest total weight\n",
    "topics = matutils.corpus2dense(model[corp us], \n",
    "                               num_terms=model.num_topics)\n",
    "weight = topics.sum(1)\n",
    "max_topic = weight.argmax()"
   ]
  },
  {
   "cell_type": "code",
   "execution_count": 216,
   "metadata": {
    "collapsed": false,
    "slideshow": {
     "slide_type": "subslide"
    }
   },
   "outputs": [],
   "source": [
    "# Get the top 64 words for this topic\n",
    "# Without the argument, show_topic would return only 10 words\n",
    "words = model.show_topic(max_topic, 64)\n",
    "words = np.array(words).T\n",
    "words_freq=[float(i)*10000000 for i in words[0]]\n",
    "words = zip(words[1], words_freq)"
   ]
  },
  {
   "cell_type": "code",
   "execution_count": 219,
   "metadata": {
    "collapsed": false,
    "slideshow": {
     "slide_type": "fragment"
    }
   },
   "outputs": [
    {
     "data": {
      "image/png": "[encoded data removed]",
      "text/plain": [
       "<matplotlib.figure.Figure at 0x111391a50>"
      ]
     },
     "metadata": {},
     "output_type": "display_data"
    }
   ],
   "source": [
    "wordcloud = WordCloud().generate_from_frequencies(words)\n",
    "plt.imshow(wordcloud)\n",
    "plt.axis(\"off\")\n",
    "plt.show()"
   ]
  },
  {
   "cell_type": "code",
   "execution_count": 104,
   "metadata": {
    "collapsed": false,
    "slideshow": {
     "slide_type": "slide"
    }
   },
   "outputs": [
    {
     "data": {
      "image/png": "[encoded data removed]",
      "text/plain": [
       "<matplotlib.figure.Figure at 0x1119028d0>"
      ]
     },
     "metadata": {},
     "output_type": "display_data"
    }
   ],
   "source": [
    "num_topics_used = [len(model[doc]) for doc in corpus]\n",
    "\n",
    "fig,ax = plt.subplots()\n",
    "ax.hist(num_topics_used, np.arange(42))\n",
    "ax.set_ylabel('Nr of documents')\n",
    "ax.set_xlabel('Nr of topics')\n",
    "fig.tight_layout()\n",
    "#fig.savefig('Figure_04_01.png')"
   ]
  },
  {
   "cell_type": "markdown",
   "metadata": {
    "slideshow": {
     "slide_type": "subslide"
    }
   },
   "source": [
    "# We can see that about 150 documents have 5 topics, \n",
    "- while the majority deal with around 10 to 12 of them. \n",
    "    - No document talks about more than 20 topics."
   ]
  },
  {
   "cell_type": "code",
   "execution_count": 109,
   "metadata": {
    "collapsed": false,
    "slideshow": {
     "slide_type": "fragment"
    }
   },
   "outputs": [],
   "source": [
    "# Now, repeat the same exercise using alpha=1.0\n",
    "# You can edit the constant below to play around with this parameter\n",
    "ALPHA = 1.0\n",
    "model1 = models.ldamodel.LdaModel(\n",
    "    corpus, num_topics=NUM_TOPICS, id2word=corpus.id2word, \n",
    "    alpha=ALPHA)\n",
    "\n",
    "num_topics_used1 = [len(model1[doc]) for doc in corpus]"
   ]
  },
  {
   "cell_type": "code",
   "execution_count": 108,
   "metadata": {
    "collapsed": false,
    "slideshow": {
     "slide_type": "subslide"
    }
   },
   "outputs": [
    {
     "data": {
      "image/png": "[encoded data removed]",
      "text/plain": [
       "<matplotlib.figure.Figure at 0x111edce90>"
      ]
     },
     "metadata": {},
     "output_type": "display_data"
    }
   ],
   "source": [
    "fig,ax = plt.subplots()\n",
    "ax.hist([num_topics_used, num_topics_used1], np.arange(42))\n",
    "ax.set_ylabel('Nr of documents')\n",
    "ax.set_xlabel('Nr of topics')\n",
    "# The coordinates below were fit by trial and error to look good\n",
    "plt.text(9, 223, r'default alpha')\n",
    "plt.text(26, 156, 'alpha=1.0')\n",
    "fig.tight_layout()"
   ]
  },
  {
   "cell_type": "markdown",
   "metadata": {
    "slideshow": {
     "slide_type": "slide"
    }
   },
   "source": [
    "# 使用pyLDAvis可视化主题模型\n",
    "http://nbviewer.jupyter.org/github/bmabey/pyLDAvis/blob/master/notebooks/pyLDAvis_overview.ipynb\n",
    "\n",
    "> # pip install pyldavis"
   ]
  },
  {
   "cell_type": "markdown",
   "metadata": {
    "slideshow": {
     "slide_type": "slide"
    }
   },
   "source": [
    "# 读取并清洗数据"
   ]
  },
  {
   "cell_type": "code",
   "execution_count": 21,
   "metadata": {
    "ExecuteTime": {
     "end_time": "2017-05-19T16:14:56.071900",
     "start_time": "2017-05-19T16:14:56.018756"
    },
    "collapsed": false,
    "slideshow": {
     "slide_type": "fragment"
    }
   },
   "outputs": [],
   "source": [
    "with open('/Users/chengjun/bigdata/ap/ap.txt', 'r') as f:\n",
    "    dat = f.readlines()"
   ]
  },
  {
   "cell_type": "code",
   "execution_count": 2,
   "metadata": {
    "ExecuteTime": {
     "end_time": "2017-05-18T20:42:15.830366",
     "start_time": "2017-05-18T20:42:15.817220"
    },
    "collapsed": false,
    "slideshow": {
     "slide_type": "subslide"
    }
   },
   "outputs": [
    {
     "data": {
      "text/plain": [
       "['<DOC>\\n',\n",
       " '<DOCNO> AP881218-0003 </DOCNO>\\n',\n",
       " '<TEXT>\\n',\n",
       " \" A 16-year-old student at a private Baptist school who allegedly killed one teacher and wounded another before firing into a filled classroom apparently ``just snapped,'' the school's pastor said. ``I don't know how it could have happened,'' said George Sweet, pastor of Atlantic Shores Baptist Church. ``This is a good, Christian school. We pride ourselves on discipline. Our kids are good kids.'' The Atlantic Shores Christian School sophomore was arrested and charged with first-degree murder, attempted murder, malicious assault and related felony charges for the Friday morning shooting. Police would not release the boy's name because he is a juvenile, but neighbors and relatives identified him as Nicholas Elliott. Police said the student was tackled by a teacher and other students when his semiautomatic pistol jammed as he fired on the classroom as the students cowered on the floor crying ``Jesus save us! God save us!'' Friends and family said the boy apparently was troubled by his grandmother's death and the divorce of his parents and had been tormented by classmates. Nicholas' grandfather, Clarence Elliott Sr., said Saturday that the boy's parents separated about four years ago and his maternal grandmother, Channey Williams, died last year after a long illness. The grandfather also said his grandson was fascinated with guns. ``The boy was always talking about guns,'' he said. ``He knew a lot about them. He knew all the names of them _ none of those little guns like a .32 or a .22 or nothing like that. He liked the big ones.'' The slain teacher was identified as Karen H. Farley, 40. The wounded teacher, 37-year-old Sam Marino, was in serious condition Saturday with gunshot wounds in the shoulder. Police said the boy also shot at a third teacher, Susan Allen, 31, as she fled from the room where Marino was shot. He then shot Marino again before running to a third classroom where a Bible class was meeting. The youngster shot the glass out of a locked door before opening fire, police spokesman Lewis Thurston said. When the youth's pistol jammed, he was tackled by teacher Maurice Matteson, 24, and other students, Thurston said. ``Once you see what went on in there, it's a miracle that we didn't have more people killed,'' Police Chief Charles R. Wall said. Police didn't have a motive, Detective Tom Zucaro said, but believe the boy's primary target was not a teacher but a classmate. Officers found what appeared to be three Molotov cocktails in the boy's locker and confiscated the gun and several spent shell casings. Fourteen rounds were fired before the gun jammed, Thurston said. The gun, which the boy carried to school in his knapsack, was purchased by an adult at the youngster's request, Thurston said, adding that authorities have interviewed the adult, whose name is being withheld pending an investigation by the federal Bureau of Alcohol, Tobacco and Firearms. The shootings occurred in a complex of four portable classrooms for junior and senior high school students outside the main building of the 4-year-old school. The school has 500 students in kindergarten through 12th grade. Police said they were trying to reconstruct the sequence of events and had not resolved who was shot first. The body of Ms. Farley was found about an hour after the shootings behind a classroom door.\\n\",\n",
       " ' </TEXT>\\n',\n",
       " '</DOC>\\n']"
      ]
     },
     "execution_count": 2,
     "metadata": {},
     "output_type": "execute_result"
    }
   ],
   "source": [
    "dat[:6]"
   ]
  },
  {
   "cell_type": "code",
   "execution_count": 3,
   "metadata": {
    "ExecuteTime": {
     "end_time": "2017-05-18T20:42:16.678645",
     "start_time": "2017-05-18T20:42:16.674085"
    },
    "collapsed": false,
    "slideshow": {
     "slide_type": "subslide"
    }
   },
   "outputs": [
    {
     "data": {
      "text/plain": [
       "'<'"
      ]
     },
     "execution_count": 3,
     "metadata": {},
     "output_type": "execute_result"
    }
   ],
   "source": [
    "dat[4].strip()[0]"
   ]
  },
  {
   "cell_type": "code",
   "execution_count": 22,
   "metadata": {
    "ExecuteTime": {
     "end_time": "2017-05-19T16:15:56.203498",
     "start_time": "2017-05-19T16:15:56.199402"
    },
    "collapsed": false,
    "slideshow": {
     "slide_type": "subslide"
    }
   },
   "outputs": [],
   "source": [
    "docs = []\n",
    "for i in dat[:100]:\n",
    "    if i.strip()[0] != '<':\n",
    "        docs.append(i)"
   ]
  },
  {
   "cell_type": "code",
   "execution_count": 23,
   "metadata": {
    "ExecuteTime": {
     "end_time": "2017-05-19T16:16:19.799042",
     "start_time": "2017-05-19T16:16:19.790773"
    },
    "collapsed": false,
    "slideshow": {
     "slide_type": "subslide"
    }
   },
   "outputs": [],
   "source": [
    "def clean_doc(doc):\n",
    "    doc = doc.replace('.', '').replace(',', '')\n",
    "    doc = doc.replace('``', '').replace('\"', '')\n",
    "    doc = doc.replace('_', '').replace(\"'\", '')\n",
    "    doc = doc.replace('!', '')\n",
    "    return doc\n",
    "docs = [clean_doc(doc) for doc in docs]"
   ]
  },
  {
   "cell_type": "code",
   "execution_count": 24,
   "metadata": {
    "ExecuteTime": {
     "end_time": "2017-05-19T16:16:37.757294",
     "start_time": "2017-05-19T16:16:37.749968"
    },
    "collapsed": false,
    "slideshow": {
     "slide_type": "subslide"
    }
   },
   "outputs": [],
   "source": [
    "texts = [[i for i in doc.lower().split()] for doc in docs]"
   ]
  },
  {
   "cell_type": "code",
   "execution_count": null,
   "metadata": {
    "ExecuteTime": {
     "start_time": "2017-05-18T12:41:21.393Z"
    },
    "collapsed": true,
    "slideshow": {
     "slide_type": "subslide"
    }
   },
   "outputs": [],
   "source": [
    "import nltk\n",
    "nltk.download()\n",
    "# 会打开一个窗口，选择book，download，待下载完毕就可以使用了。"
   ]
  },
  {
   "cell_type": "code",
   "execution_count": 7,
   "metadata": {
    "ExecuteTime": {
     "end_time": "2017-05-18T20:42:26.816217",
     "start_time": "2017-05-18T20:42:26.203862"
    },
    "collapsed": true,
    "slideshow": {
     "slide_type": "fragment"
    }
   },
   "outputs": [],
   "source": [
    "from nltk.corpus import stopwords\n",
    "stop = stopwords.words('english') # 如果此处出错，请执行上一个block的代码"
   ]
  },
  {
   "cell_type": "code",
   "execution_count": 8,
   "metadata": {
    "ExecuteTime": {
     "end_time": "2017-05-18T20:42:27.823210",
     "start_time": "2017-05-18T20:42:27.818741"
    },
    "collapsed": false,
    "slideshow": {
     "slide_type": "subslide"
    }
   },
   "outputs": [
    {
     "data": {
      "text/plain": [
       "u'i me my myself we our ours ourselves you your yours yourself yourselves he him his himself she her hers herself it its itself they them their theirs themselves what which who whom this that these those am is are was were be been being have has had having do does did doing a an the and but if or because as until while of at by for with about against between into through during before after above below to from up down in out on off over under again further then once here there when where why how all any both each few more most other some such no nor not only own same so than too very s t can will just don should now d ll m o re ve y ain aren couldn didn doesn hadn hasn haven isn ma mightn mustn needn shan shouldn wasn weren won wouldn'"
      ]
     },
     "execution_count": 8,
     "metadata": {},
     "output_type": "execute_result"
    }
   ],
   "source": [
    "' '.join(stop)"
   ]
  },
  {
   "cell_type": "code",
   "execution_count": 9,
   "metadata": {
    "ExecuteTime": {
     "end_time": "2017-05-18T20:42:31.686907",
     "start_time": "2017-05-18T20:42:31.684078"
    },
    "collapsed": true,
    "slideshow": {
     "slide_type": "subslide"
    }
   },
   "outputs": [],
   "source": [
    "stop.append('said')"
   ]
  },
  {
   "cell_type": "code",
   "execution_count": 10,
   "metadata": {
    "ExecuteTime": {
     "end_time": "2017-05-18T20:42:34.281821",
     "start_time": "2017-05-18T20:42:34.241994"
    },
    "collapsed": true,
    "slideshow": {
     "slide_type": "subslide"
    }
   },
   "outputs": [],
   "source": [
    "from collections import defaultdict\n",
    "frequency = defaultdict(int)\n",
    "for text in texts:\n",
    "    for token in text:\n",
    "        frequency[token] += 1\n",
    "\n",
    "texts = [[token for token in text \\\n",
    "          if frequency[token] > 1 and token not in stop]\n",
    "        for text in texts]"
   ]
  },
  {
   "cell_type": "code",
   "execution_count": 11,
   "metadata": {
    "ExecuteTime": {
     "end_time": "2017-05-18T20:42:35.419486",
     "start_time": "2017-05-18T20:42:35.415411"
    },
    "collapsed": false,
    "slideshow": {
     "slide_type": "subslide"
    }
   },
   "outputs": [
    {
     "data": {
      "text/plain": [
       "' Here is a summary of developments in forest and brush fires in Western states:\\n'"
      ]
     },
     "execution_count": 11,
     "metadata": {},
     "output_type": "execute_result"
    }
   ],
   "source": [
    "docs[8]"
   ]
  },
  {
   "cell_type": "code",
   "execution_count": 12,
   "metadata": {
    "ExecuteTime": {
     "end_time": "2017-05-18T20:42:38.514398",
     "start_time": "2017-05-18T20:42:38.510777"
    },
    "collapsed": false,
    "slideshow": {
     "slide_type": "fragment"
    }
   },
   "outputs": [
    {
     "data": {
      "text/plain": [
       "'stirbois 2 man extreme-right national front party le pen died saturday automobile police 43 stirbois political meeting friday city dreux miles west paris traveling toward capital car ran police stirbois national front member party since born paris law headed business stirbois several extreme-right political joining national front 1977 percent vote local elections west paris highest vote percentage candidate year half later deputy dreux stirbois deputy national 1986 lost elections last national front founded le pen frances government death priority first years presidential elections le pen percent vote national front could'"
      ]
     },
     "execution_count": 12,
     "metadata": {},
     "output_type": "execute_result"
    }
   ],
   "source": [
    "' '.join(texts[9])"
   ]
  },
  {
   "cell_type": "code",
   "execution_count": 15,
   "metadata": {
    "ExecuteTime": {
     "end_time": "2017-05-18T20:43:06.719523",
     "start_time": "2017-05-18T20:43:06.699069"
    },
    "collapsed": false,
    "slideshow": {
     "slide_type": "slide"
    }
   },
   "outputs": [],
   "source": [
    "dictionary = corpora.Dictionary(texts)\n",
    "lda_corpus = [dictionary.doc2bow(text) for text in texts]\n",
    "#The function doc2bow() simply counts the number of occurences of each distinct word, \n",
    "# converts the word to its integer word id and returns the result as a sparse vector. "
   ]
  },
  {
   "cell_type": "code",
   "execution_count": 17,
   "metadata": {
    "ExecuteTime": {
     "end_time": "2017-05-18T20:44:06.056920",
     "start_time": "2017-05-18T20:44:05.833025"
    },
    "collapsed": false,
    "slideshow": {
     "slide_type": "slide"
    }
   },
   "outputs": [],
   "source": [
    "NUM_TOPICS = 10\n",
    "lda_model = models.ldamodel.LdaModel(\n",
    "    lda_corpus, num_topics=NUM_TOPICS, \n",
    "    id2word=dictionary, alpha=None)"
   ]
  },
  {
   "cell_type": "code",
   "execution_count": 25,
   "metadata": {
    "ExecuteTime": {
     "end_time": "2017-05-19T16:21:53.767835",
     "start_time": "2017-05-19T16:21:52.965663"
    },
    "collapsed": false,
    "slideshow": {
     "slide_type": "slide"
    }
   },
   "outputs": [],
   "source": [
    "import pyLDAvis.gensim\n",
    "\n",
    "ap_data = pyLDAvis.gensim.prepare(lda_model, lda_corpus, dictionary)"
   ]
  },
  {
   "cell_type": "code",
   "execution_count": 20,
   "metadata": {
    "ExecuteTime": {
     "end_time": "2017-05-19T15:24:05.811730",
     "start_time": "2017-05-19T15:24:05.758739"
    },
    "collapsed": false,
    "slideshow": {
     "slide_type": "slide"
    }
   },
   "outputs": [
    {
     "data": {
      "text/html": [
       "\n",
       "<link rel=\"stylesheet\" type=\"text/css\" href=\"https://cdn.rawgit.com/bmabey/pyLDAvis/files/ldavis.v1.0.0.css\">\n",
       "\n",
       "\n",
       "<div id=\"ldavis_el1794946975095847754407694\"></div>\n",
       "<script type=\"text/javascript\">\n",
       "\n",
       "var ldavis_el1794946975095847754407694_data = {\"plot.opts\": {\"xlab\": \"PC1\", \"ylab\": \"PC2\"}, \"topic.order\": [7, 5, 9, 3, 1, 2, 8, 4, 10, 6], \"token.table\": {\"Topic\": [2, 5, 1, 1, 2, 2, 4, 4, 1, 4, 2, 5, 1, 8, 1, 3, 4, 1, 2, 3, 4, 7, 3, 1, 3, 4, 5, 6, 3, 2, 3, 4, 7, 2, 6, 3, 1, 2, 1, 3, 6, 6, 4, 1, 1, 3, 5, 6, 7, 2, 2, 3, 4, 1, 1, 1, 7, 1, 1, 6, 5, 6, 7, 2, 2, 3, 4, 3, 4, 8, 1, 4, 7, 1, 5, 5, 1, 6, 1, 3, 1, 7, 3, 3, 4, 5, 6, 2, 2, 1, 3, 1, 1, 1, 5, 1, 2, 3, 1, 3, 6, 6, 1, 4, 6, 1, 1, 1, 1, 4, 7, 1, 2, 1, 1, 2, 3, 4, 5, 6, 1, 1, 5, 7, 1, 3, 5, 1, 8, 1, 3, 2, 1, 5, 6, 1, 4, 1, 3, 1, 6, 1, 1, 5, 7, 1, 2, 3, 4, 6, 1, 6, 1, 2, 1, 3, 2, 2, 1, 1, 2, 3, 5, 6, 8, 4, 5, 6, 6, 1, 2, 1, 2, 1, 6, 1, 2, 4, 6, 3, 4, 5, 5, 3, 4, 1, 3, 1, 2, 5, 4, 6, 6, 6, 1, 4, 1, 5, 6, 5, 3, 1, 4, 1, 1, 6, 2, 3, 2, 3, 2, 2, 1, 3, 4, 7, 3, 4, 1, 4, 1, 5, 6, 1, 2, 2, 6, 1, 3, 4, 5, 8, 5, 2, 1, 2, 3, 4, 5, 6, 1, 1, 1, 1, 2, 4, 1, 1, 3, 5, 6, 7, 4, 4, 1, 2, 3, 6, 4, 1, 1, 2, 3, 5, 1, 2, 5, 3, 2, 1, 4, 6, 7, 2, 1, 4, 1, 2, 4, 5, 1, 2, 4, 1, 3, 4, 5, 6, 5, 1, 2, 4, 5, 6, 7, 1, 5, 6, 7, 6, 1, 3, 4, 2, 4, 1, 3, 4, 7, 4, 1, 3, 4, 5, 1, 2, 6, 1, 2, 2, 2, 5, 1, 2, 3, 5, 1, 3, 4, 1, 2, 1, 2, 3, 4, 5, 6, 7, 8, 1, 2, 5, 6, 1, 3, 4, 5, 1, 3, 5, 3, 1, 3, 1, 1, 2, 3, 4, 6, 1, 2, 4, 5, 7, 1, 2, 7, 1, 4, 1, 1, 7, 2, 3, 1, 3, 4, 5, 6, 7, 8, 2, 4, 1, 3, 4, 1, 2, 3, 4, 5, 6, 1, 2, 3, 1, 1, 3, 1, 2, 1, 4, 1, 6, 4, 7, 2, 2, 1, 2, 2, 1, 3, 2, 4, 1, 1, 2, 4, 8, 8, 1, 2, 2, 1, 3, 8, 5, 1, 2, 3, 1, 3, 4, 5, 1, 3, 5, 1, 3, 1, 2, 1, 4, 3, 3, 4, 5, 1, 2, 4, 6, 6, 1, 4, 6, 2, 4, 1, 6, 1, 4, 6, 1, 4, 8, 1, 2, 4, 1, 2, 4, 5, 7, 5, 1, 6, 3, 4, 5, 4, 7, 2, 4, 2, 3, 3, 4, 5, 8, 1, 2, 4, 6, 8, 1, 2, 4, 1, 2, 3, 4, 1, 3, 1, 4, 3, 4, 5, 1, 3, 6, 1, 2, 5, 8, 1, 6, 6, 1, 2, 4, 1, 4, 5, 1, 6, 7, 2, 4, 7, 1, 4, 5, 7, 1, 3, 4, 5, 6, 1, 2, 3, 4, 4, 1, 6, 6, 4, 1, 1, 4, 7, 8, 2, 5, 5, 1, 3, 6, 2, 1, 3, 5, 6, 5, 4, 7, 1, 5, 1, 4, 2, 4, 1, 2, 3, 4, 5, 6, 7, 3, 1, 2, 3, 4, 5, 6, 7, 1, 2, 3, 5, 6, 8], \"Freq\": [0.51867773180491616, 0.25933886590245808, 0.43835457572076558, 0.74527118475423526, 0.53305599206367982, 0.46636732181666468, 0.46636732181666468, 0.50479264283810243, 0.45549817259406622, 0.45549817259406622, 0.52109235049656299, 0.52109235049656299, 0.44019826895653913, 0.36101546732676382, 0.52309887700899693, 0.17436629233633233, 0.17436629233633233, 0.3944419852406536, 0.13148066174688453, 0.13148066174688453, 0.13148066174688453, 0.13148066174688453, 0.55475926912773099, 0.5148550006771816, 0.10297100013543632, 0.20594200027087264, 0.10297100013543632, 0.10297100013543632, 0.70620918242236241, 0.60856311231117954, 0.47156424608462205, 0.52984183265246609, 0.52984183265246609, 0.51518248152188728, 0.51518248152188728, 0.4781890850346357, 0.47738075418378872, 0.53511501921789562, 0.3537524329823204, 0.3537524329823204, 0.74807404018108692, 0.79887528852429368, 0.44283930919904568, 0.4814401410738709, 0.1584722055359726, 0.1584722055359726, 0.31694441107194521, 0.1584722055359726, 0.1584722055359726, 0.81426010693957773, 0.57829369969163646, 0.49843832681084621, 0.49843832681084621, 0.36138178169362029, 0.67053937989528711, 0.52365515260667206, 0.26182757630333603, 0.49054837834273624, 0.57059201859627962, 0.19019733953209322, 0.58078225884853008, 0.19359408628284336, 0.19359408628284336, 0.52313611277001426, 0.51809167713229265, 0.29051972425349548, 0.29051972425349548, 0.5602268869760213, 0.28011344348801065, 0.68070777422787587, 0.3564286120212794, 0.3564286120212794, 0.3564286120212794, 0.31442479888628938, 0.31442479888628938, 0.50689736088583692, 0.42465470710496345, 0.50251428825906164, 0.62765277813584952, 0.31382638906792476, 0.38658751361924398, 0.38658751361924398, 0.49478305315808707, 0.56510431692610175, 0.28255215846305087, 0.50721490064931474, 0.50721490064931474, 0.51906816969507763, 0.60866618767295033, 0.36530960299277443, 0.36530960299277443, 0.67419502127542941, 0.42303561918360294, 0.43335218594321617, 0.51457098183685823, 0.67610891717232013, 0.16902722929308003, 0.16902722929308003, 0.26868944085887331, 0.26868944085887331, 0.40303416128830993, 0.50257442049365098, 0.43317584063427006, 0.57940563493573505, 0.44395261862840024, 0.45596093585006814, 0.65756178785788999, 0.6923758484201159, 0.51571113073035613, 0.25785556536517806, 0.25785556536517806, 0.6661856199646603, 0.5383290179286826, 0.97652230574943877, 0.30344422221228839, 0.1517221111061442, 0.1517221111061442, 0.1517221111061442, 0.1517221111061442, 0.1517221111061442, 0.43789515374244142, 0.65674915831762881, 0.1641872895794072, 0.1641872895794072, 0.56390424639703707, 0.25079002039928744, 0.50158004079857488, 0.96624253909852709, 0.4509761352566346, 0.42095131025763161, 0.2104756551288158, 0.59570726160614573, 0.92474387917970935, 0.38218652045122647, 0.38218652045122647, 0.52448510329682851, 0.52448510329682851, 0.61686116305019101, 0.3084305815250955, 0.97701838358079018, 0.51035323093037233, 0.48962385819126136, 0.51278840613798271, 0.1709294687126609, 0.1709294687126609, 0.63920015554330634, 0.079900019442913292, 0.079900019442913292, 0.079900019442913292, 0.079900019442913292, 0.63881255182122498, 0.49948326364610718, 0.2501995985276107, 0.5003991970552214, 0.73020736893660898, 0.1460414737873218, 0.52861608003017035, 0.55510789161839413, 0.83336098974361861, 0.52001896438666972, 0.17333965479555657, 0.17333965479555657, 0.17333965479555657, 0.35909695241858358, 0.35909695241858358, 0.46622246280170182, 0.23311123140085091, 0.23311123140085091, 0.51425311436495358, 0.62616783053723413, 0.15654195763430853, 0.75432053130607923, 0.15086410626121585, 0.91260840969358981, 0.44851751886206542, 0.32500428277753518, 0.16250214138876759, 0.16250214138876759, 0.16250214138876759, 0.25036501395025074, 0.25036501395025074, 0.25036501395025074, 0.62284536037963256, 0.36065692746146905, 0.36065692746146905, 0.30737576612971118, 0.30737576612971118, 0.40267890813792789, 0.5443306863791092, 0.51505384951360733, 0.52736784795941816, 0.52736784795941816, 0.50036542695112463, 0.44603369490190298, 0.37465391832163086, 0.37465391832163086, 0.83264220562864, 0.33458626549101184, 0.33458626549101184, 0.3964211910967696, 0.43653626340348045, 0.58765667188973914, 0.29382833594486957, 0.46642481028488619, 0.44651162581714954, 0.44651162581714954, 0.32278535618909626, 0.32278535618909626, 0.50778414788343784, 0.97364707629491765, 0.57017767053304103, 0.54474809489519604, 0.52837821810925945, 0.13209455452731486, 0.13209455452731486, 0.13209455452731486, 0.3762394217086158, 0.3762394217086158, 0.47688937474284193, 0.31792624982856127, 0.47515814246119481, 0.51790748390243191, 0.25895374195121595, 0.67389036605785557, 0.52713184674951785, 0.51742190180885761, 0.51742190180885761, 0.18245849672823922, 0.18245849672823922, 0.18245849672823922, 0.18245849672823922, 0.18245849672823922, 0.50918404752330315, 0.5488847960255081, 0.72948417949038513, 0.12158069658173086, 0.12158069658173086, 0.12158069658173086, 0.39063402306578388, 0.39063402306578388, 0.77938229396159819, 0.65065833970712261, 0.94008861579231084, 0.21554237473084831, 0.21554237473084831, 0.43108474946169661, 0.42949105027531947, 0.49181174990773197, 0.24590587495386598, 0.62162714812250253, 0.15540678703062563, 0.15540678703062563, 0.55888581275046734, 0.54571274467520725, 0.16698013560161062, 0.33396027120322125, 0.16698013560161062, 0.33396027120322125, 0.57297604317654127, 0.66536252448943123, 0.14333729095768083, 0.14333729095768083, 0.14333729095768083, 0.28667458191536166, 0.74792774414678176, 0.14958554882935635, 0.5132502223965093, 0.36636143835256213, 0.80570097669274499, 0.66149722631522956, 0.38932873097627851, 0.38932873097627851, 0.38932873097627851, 0.79661987626436948, 0.4890208576503603, 0.4890208576503603, 0.32468259482071443, 0.32468259482071443, 0.16234129741035722, 0.16234129741035722, 0.22643787286108016, 0.45287574572216033, 0.22643787286108016, 0.39100755950851751, 0.19550377975425876, 0.19550377975425876, 0.19550377975425876, 0.19550377975425876, 0.51440623809623454, 0.57285745337863159, 0.1432143633446579, 0.1432143633446579, 0.62907120040805431, 0.12581424008161088, 0.12581424008161088, 0.14731702120361706, 0.58926808481446824, 0.14731702120361706, 0.14731702120361706, 0.74642757778865754, 0.84411591320885282, 0.070342992767404397, 0.070342992767404397, 0.53120339258207072, 0.59637649681596605, 0.29797663664027868, 0.14898831832013934, 0.29797663664027868, 0.14898831832013934, 0.51265495994928478, 0.57370781654833936, 0.14342695413708484, 0.071713477068542419, 0.071713477068542419, 0.56862313166254586, 0.11372462633250918, 0.11372462633250918, 0.72466055711999988, 0.12077675951999997, 0.84336227905256667, 0.39415201031987857, 0.39415201031987857, 0.22815136347314338, 0.45630272694628676, 0.11407568173657169, 0.11407568173657169, 0.58711442673169412, 0.14677860668292353, 0.14677860668292353, 0.27324867322804525, 0.54649734645609049, 0.2799729813937617, 0.093324327131253909, 0.18664865426250782, 0.093324327131253909, 0.18664865426250782, 0.18664865426250782, 0.093324327131253909, 0.093324327131253909, 0.70683405310431491, 0.14136681062086298, 0.3054592652370578, 0.3054592652370578, 0.61758746471343695, 0.088226780673348146, 0.088226780673348146, 0.088226780673348146, 0.60171804146955798, 0.20057268048985266, 0.20057268048985266, 0.481123131256884, 0.93089572521866626, 0.48409311916844355, 0.92399563763906079, 0.13445707223233885, 0.13445707223233885, 0.13445707223233885, 0.40337121669701653, 0.13445707223233885, 0.77614105692444402, 0.10705393888613021, 0.026763484721532553, 0.026763484721532553, 0.053526969443065106, 0.79460650855896697, 0.82598577525446737, 0.11799796789349533, 0.48880687285740593, 0.48880687285740593, 0.47246012943970772, 0.34975876864639721, 0.34975876864639721, 0.79462692695936277, 0.47222987746492551, 0.21003007569686297, 0.21003007569686297, 0.070010025232287651, 0.35005012616143827, 0.070010025232287651, 0.070010025232287651, 0.070010025232287651, 0.5592545241913236, 0.5592545241913236, 0.53826947099373701, 0.17942315699791234, 0.17942315699791234, 0.4500058027907341, 0.11250145069768352, 0.11250145069768352, 0.11250145069768352, 0.11250145069768352, 0.11250145069768352, 0.75346628349710376, 0.40374113028257058, 0.40374113028257058, 0.63946983663090851, 0.32363805729493939, 0.32363805729493939, 0.76861707243541055, 0.10980243891934437, 0.37125445799835038, 0.37125445799835038, 0.97441182304769758, 0.50183282422483866, 0.52592359750859119, 0.52592359750859119, 0.81923450767233241, 0.51116064772007397, 0.72045870034702841, 0.12007645005783806, 0.54209770399693258, 0.37475933420802782, 0.37475933420802782, 0.47647945095453886, 0.47647945095453886, 0.90460581792198103, 0.55659122479489154, 0.11131824495897831, 0.11131824495897831, 0.22263648991795662, 0.67650990614004525, 0.36058398999276203, 0.36058398999276203, 0.80486859829472002, 0.27967889657716916, 0.55935779315433831, 0.43477618964216114, 0.38697721510924421, 0.29363328933825372, 0.29363328933825372, 0.29363328933825372, 0.15728859602691203, 0.47186578808073609, 0.15728859602691203, 0.15728859602691203, 0.51947913376247545, 0.25973956688123773, 0.25973956688123773, 0.64811874290557669, 0.32405937145278835, 0.35800907616645894, 0.35800907616645894, 0.60159627524500314, 0.30079813762250157, 0.49811006075389547, 0.32691277555744169, 0.16345638777872085, 0.32691277555744169, 0.55524150271332251, 0.1110483005426645, 0.222096601085329, 0.45004488493942196, 0.51272801718560979, 0.55880903569401419, 0.33528542141640849, 0.11176180713880284, 0.46755537308750444, 0.46755537308750444, 0.49190012355624285, 0.49190012355624285, 0.42232837471227536, 0.42232837471227536, 0.21116418735613768, 0.30966251492215841, 0.30966251492215841, 0.69311203494080098, 0.50400972437454394, 0.12600243109363599, 0.25200486218727197, 0.38483536152379783, 0.19241768076189891, 0.19241768076189891, 0.19241768076189891, 0.19241768076189891, 0.50256462660357815, 0.88668122072422217, 0.74316877695802841, 0.4046737949282338, 0.2023368974641169, 0.2023368974641169, 0.52400368534570441, 0.52400368534570441, 0.46971580912405592, 0.46971580912405592, 0.58140271017199818, 0.47686102081322906, 0.34585111164272103, 0.17292555582136052, 0.17292555582136052, 0.17292555582136052, 0.30831283412987232, 0.30831283412987232, 0.30831283412987232, 0.30831283412987232, 0.69247822046765461, 0.37794703790882056, 0.37794703790882056, 0.37794703790882056, 0.30777761435962014, 0.30777761435962014, 0.30777761435962014, 0.55874416912988956, 0.67765447821489699, 0.13553089564297938, 0.30122455018267197, 0.30122455018267197, 0.57975644324587761, 0.2898782216229388, 0.51436760268426696, 0.61493558187752906, 0.15373389546938226, 0.5776899773711559, 0.29707313028363319, 0.29707313028363319, 0.29707313028363319, 0.6879881079557304, 0.41587741083364482, 0.20793870541682241, 0.50163177691188765, 0.70276306866023752, 0.3675803957270119, 0.3675803957270119, 0.55725903581881653, 0.371506023879211, 0.63593923043388134, 0.54722781357417494, 0.18240927119139166, 0.18240927119139166, 0.55923751605850336, 0.53070288827874434, 0.26535144413937217, 0.28691980495283698, 0.28691980495283698, 0.28691980495283698, 0.28691980495283698, 0.51083404274095212, 0.14595258364027203, 0.072976291820136013, 0.072976291820136013, 0.072976291820136013, 0.65616124885551541, 0.13123224977110307, 0.13123224977110307, 0.69490333776992042, 0.56983417761865485, 0.67301466954996148, 0.74854140877379993, 0.50155674654190197, 0.55816323606493756, 0.89859575348252163, 0.47271144209690613, 0.23635572104845307, 0.23635572104845307, 0.48155096127403879, 0.53101392871335185, 0.51915851071665442, 0.51703063700303975, 0.43471807466736506, 0.43471807466736506, 0.51630198694441776, 0.44759688182702823, 0.23726695508208273, 0.23726695508208273, 0.23726695508208273, 0.23726695508208273, 0.51859049585619199, 0.53090916498716301, 0.53090916498716301, 0.39125332036048155, 0.39125332036048155, 0.45749652977782779, 0.45749652977782779, 0.46480454796981874, 0.46480454796981874, 0.31903392514627105, 0.15951696257313552, 0.079758481286567762, 0.079758481286567762, 0.15951696257313552, 0.079758481286567762, 0.079758481286567762, 0.48730847065602267, 0.32952295606344001, 0.047074708009062854, 0.047074708009062854, 0.14122412402718856, 0.047074708009062854, 0.32952295606344001, 0.047074708009062854, 0.51173604158215091, 0.085289340263691824, 0.085289340263691824, 0.085289340263691824, 0.085289340263691824, 0.085289340263691824], \"Term\": [\"10\", \"10\", \"1300\", \"1977\", \"1985\", \"25000\", \"25000\", \"50\", \"85\", \"85\", \"able\", \"able\", \"act\", \"actor\", \"administration\", \"administration\", \"administration\", \"also\", \"also\", \"also\", \"also\", \"also\", \"always\", \"american\", \"american\", \"american\", \"american\", \"american\", \"amid\", \"anything\", \"apparently\", \"appears\", \"appears\", \"asked\", \"asked\", \"atlantic\", \"attacks\", \"attorney\", \"august\", \"august\", \"award\", \"awards\", \"away\", \"babies\", \"back\", \"back\", \"back\", \"back\", \"back\", \"bechtel\", \"bechtels\", \"behind\", \"behind\", \"best\", \"bid\", \"bites\", \"bites\", \"bitten\", \"black\", \"black\", \"bloomberg\", \"bloomberg\", \"bloomberg\", \"bomb\", \"border\", \"boy\", \"boy\", \"boys\", \"boys\", \"buckley\", \"candidates\", \"candidates\", \"candidates\", \"car\", \"car\", \"case\", \"central\", \"ceremony\", \"channels\", \"channels\", \"children\", \"children\", \"christian\", \"classroom\", \"classroom\", \"clear\", \"clear\", \"close\", \"company\", \"congress\", \"congress\", \"conservative\", \"continue\", \"control\", \"cool\", \"could\", \"could\", \"could\", \"country\", \"country\", \"country\", \"crystal\", \"cuba\", \"cupid\", \"dance\", \"daughter\", \"dawkins\", \"defense\", \"democratic\", \"democratic\", \"democratic\", \"democrats\", \"denied\", \"deputy\", \"died\", \"died\", \"died\", \"died\", \"died\", \"died\", \"diplomatic\", \"doctors\", \"doctors\", \"doctors\", \"dogs\", \"door\", \"door\", \"dreux\", \"drood\", \"economic\", \"economic\", \"edwin\", \"elections\", \"entertainer\", \"entertainer\", \"estimated\", \"estimated\", \"examining\", \"examining\", \"extreme-right\", \"fame\", \"ferret\", \"ferrets\", \"ferrets\", \"ferrets\", \"first\", \"first\", \"first\", \"first\", \"first\", \"forces\", \"ford\", \"foreign\", \"foreign\", \"former\", \"former\", \"francisco\", \"friend\", \"front\", \"general\", \"general\", \"general\", \"general\", \"george\", \"george\", \"get\", \"get\", \"get\", \"going\", \"goods\", \"goods\", \"government\", \"government\", \"governor\", \"great\", \"group\", \"group\", \"group\", \"group\", \"gun\", \"gun\", \"gun\", \"gunman\", \"guns\", \"guns\", \"h\", \"h\", \"half\", \"handling\", \"hands\", \"hard\", \"hard\", \"headhunters\", \"henry\", \"high\", \"high\", \"highest\", \"home\", \"home\", \"hostage\", \"hour\", \"illegal\", \"illegal\", \"increasingly\", \"industry\", \"industry\", \"iraq\", \"iraq\", \"iraqi\", \"iraqs\", \"israel\", \"israels\", \"jackson\", \"jackson\", \"jackson\", \"jackson\", \"jammed\", \"jammed\", \"japan\", \"japan\", \"jesse\", \"jewelry\", \"jewelry\", \"johnson\", \"jordan\", \"keep\", \"keep\", \"killed\", \"killed\", \"killed\", \"killed\", \"killed\", \"know\", \"labor\", \"last\", \"last\", \"last\", \"last\", \"late\", \"late\", \"later\", \"law\", \"le\", \"least\", \"least\", \"least\", \"leave\", \"letter\", \"letter\", \"liberace\", \"liberace\", \"liberace\", \"lived\", \"loveland\", \"made\", \"made\", \"made\", \"made\", \"mail\", \"making\", \"man\", \"man\", \"man\", \"man\", \"manufacturing\", \"manufacturing\", \"margaret\", \"marino\", \"meese\", \"member\", \"members\", \"members\", \"members\", \"memo\", \"might\", \"might\", \"million\", \"million\", \"million\", \"million\", \"ministry\", \"ministry\", \"ministry\", \"monday\", \"monday\", \"monday\", \"monday\", \"monday\", \"money\", \"month\", \"month\", \"month\", \"mrs\", \"mrs\", \"mrs\", \"museum\", \"museum\", \"museum\", \"museum\", \"music\", \"national\", \"national\", \"national\", \"near\", \"nearly\", \"new\", \"new\", \"new\", \"new\", \"none\", \"noriega\", \"noriega\", \"noriega\", \"noriega\", \"november\", \"november\", \"november\", \"october\", \"october\", \"offer\", \"offered\", \"offered\", \"official\", \"official\", \"official\", \"official\", \"officials\", \"officials\", \"officials\", \"oil\", \"oil\", \"one\", \"one\", \"one\", \"one\", \"one\", \"one\", \"one\", \"one\", \"operating\", \"operating\", \"outside\", \"outside\", \"panama\", \"panama\", \"panama\", \"panama\", \"panamanian\", \"panamanian\", \"panamanian\", \"parents\", \"paris\", \"pastor\", \"pen\", \"people\", \"people\", \"people\", \"people\", \"people\", \"percent\", \"percent\", \"percent\", \"percent\", \"percent\", \"percentage\", \"peres\", \"peres\", \"perhaps\", \"perhaps\", \"pet\", \"pets\", \"pets\", \"pipeline\", \"pistol\", \"police\", \"police\", \"police\", \"police\", \"police\", \"police\", \"police\", \"post\", \"post\", \"powell\", \"powell\", \"powell\", \"president\", \"president\", \"president\", \"president\", \"president\", \"president\", \"presidential\", \"press\", \"press\", \"pressure\", \"priority\", \"priority\", \"production\", \"production\", \"program\", \"program\", \"ran\", \"ranch\", \"rank-and-file\", \"rank-and-file\", \"rappaport\", \"rappaports\", \"rate\", \"rate\", \"reached\", \"reports\", \"reports\", \"residents\", \"residents\", \"robb\", \"rose\", \"rose\", \"rose\", \"rose\", \"roses\", \"sales\", \"sales\", \"san\", \"sanctions\", \"sanctions\", \"sang\", \"sat\", \"says\", \"says\", \"says\", \"school\", \"school\", \"school\", \"school\", \"security\", \"security\", \"security\", \"sent\", \"sent\", \"september\", \"september\", \"seven\", \"seven\", \"shootings\", \"shot\", \"shot\", \"shot\", \"since\", \"since\", \"since\", \"singer\", \"single\", \"skins\", \"skins\", \"skins\", \"slum\", \"slum\", \"small\", \"small\", \"song\", \"song\", \"song\", \"south\", \"south\", \"standards\", \"state\", \"state\", \"state\", \"states\", \"states\", \"states\", \"states\", \"states\", \"stay\", \"stirbois\", \"strait\", \"students\", \"students\", \"students\", \"support\", \"support\", \"surat\", \"surat\", \"swiss\", \"tackled\", \"teacher\", \"teacher\", \"teacher\", \"teacher\", \"thats\", \"thats\", \"thats\", \"thats\", \"theater\", \"thing\", \"thing\", \"thing\", \"third\", \"third\", \"third\", \"thompson\", \"three\", \"three\", \"thursday\", \"thursday\", \"thurston\", \"thurston\", \"tied\", \"today\", \"today\", \"together\", \"told\", \"told\", \"told\", \"tony\", \"top\", \"top\", \"tour\", \"toward\", \"town\", \"town\", \"trade\", \"trade\", \"tried\", \"two\", \"two\", \"two\", \"unimportant\", \"union\", \"union\", \"united\", \"united\", \"united\", \"united\", \"us\", \"us\", \"us\", \"us\", \"us\", \"use\", \"use\", \"use\", \"valentines\", \"verse\", \"virginias\", \"vocal\", \"vocalist\", \"volunteers\", \"vote\", \"votes\", \"votes\", \"votes\", \"walked\", \"wallach\", \"want\", \"wanted\", \"washington\", \"washington\", \"wasnt\", \"wednesday\", \"went\", \"went\", \"went\", \"went\", \"woman\", \"workers\", \"workers\", \"working\", \"working\", \"world\", \"world\", \"worst\", \"worst\", \"would\", \"would\", \"would\", \"would\", \"would\", \"would\", \"would\", \"wounded\", \"year\", \"year\", \"year\", \"year\", \"year\", \"year\", \"year\", \"years\", \"years\", \"years\", \"years\", \"years\", \"years\"]}, \"mdsDat\": {\"y\": [0.11616635021337635, -0.057547408134484189, 0.010883191689975173, 0.024563889436227272, -0.036267863405265686, 0.034573302990236303, -0.010609335051751, -0.073786108223390282, -0.044376117209864958, 0.036400097694940813], \"cluster\": [1, 1, 1, 1, 1, 1, 1, 1, 1, 1], \"Freq\": [40.654862136187212, 11.302571216007436, 11.188988453172447, 10.751240343264467, 9.0882303699964222, 8.2378592802911719, 5.3666706451727348, 3.2507814498392897, 0.07939921773633947, 0.079396888332472854], \"topics\": [1, 2, 3, 4, 5, 6, 7, 8, 9, 10], \"x\": [0.063555864286249666, 0.15077276118508967, -0.052266228906981758, -0.01500802099180551, -0.059630459881473578, -0.086340760429113719, 0.012968557041379348, -0.090002945771789203, 0.076935867420031556, -0.00098463395158660959]}, \"R\": 30, \"lambda.step\": 0.01, \"tinfo\": {\"Category\": [\"Default\", \"Default\", \"Default\", \"Default\", \"Default\", \"Default\", \"Default\", \"Default\", \"Default\", \"Default\", \"Default\", \"Default\", \"Default\", \"Default\", \"Default\", \"Default\", \"Default\", \"Default\", \"Default\", \"Default\", \"Default\", \"Default\", \"Default\", \"Default\", \"Default\", \"Default\", \"Default\", \"Default\", \"Default\", \"Default\", \"Topic1\", \"Topic1\", \"Topic1\", \"Topic1\", \"Topic1\", \"Topic1\", \"Topic1\", \"Topic1\", \"Topic1\", \"Topic1\", \"Topic1\", \"Topic1\", \"Topic1\", \"Topic1\", \"Topic1\", \"Topic1\", \"Topic1\", \"Topic1\", \"Topic1\", \"Topic1\", \"Topic1\", \"Topic1\", \"Topic1\", \"Topic1\", \"Topic1\", \"Topic1\", \"Topic1\", \"Topic1\", \"Topic1\", \"Topic1\", \"Topic1\", \"Topic1\", \"Topic1\", \"Topic1\", \"Topic1\", \"Topic1\", \"Topic1\", \"Topic1\", \"Topic1\", \"Topic1\", \"Topic1\", \"Topic1\", \"Topic1\", \"Topic1\", \"Topic1\", \"Topic1\", \"Topic1\", \"Topic1\", \"Topic1\", \"Topic1\", \"Topic1\", \"Topic1\", \"Topic1\", \"Topic1\", \"Topic2\", \"Topic2\", \"Topic2\", \"Topic2\", \"Topic2\", \"Topic2\", \"Topic2\", \"Topic2\", \"Topic2\", \"Topic2\", \"Topic2\", \"Topic2\", \"Topic2\", \"Topic2\", \"Topic2\", \"Topic2\", \"Topic2\", \"Topic2\", \"Topic2\", \"Topic2\", \"Topic2\", \"Topic2\", \"Topic2\", \"Topic2\", \"Topic2\", \"Topic2\", \"Topic2\", \"Topic2\", \"Topic2\", \"Topic2\", \"Topic2\", \"Topic2\", \"Topic2\", \"Topic2\", \"Topic2\", \"Topic2\", \"Topic2\", \"Topic2\", \"Topic2\", \"Topic2\", \"Topic2\", \"Topic2\", \"Topic2\", \"Topic2\", \"Topic2\", \"Topic2\", \"Topic3\", \"Topic3\", \"Topic3\", \"Topic3\", \"Topic3\", \"Topic3\", \"Topic3\", \"Topic3\", \"Topic3\", \"Topic3\", \"Topic3\", \"Topic3\", \"Topic3\", \"Topic3\", \"Topic3\", \"Topic3\", \"Topic3\", \"Topic3\", \"Topic3\", \"Topic3\", \"Topic3\", \"Topic3\", \"Topic3\", \"Topic3\", \"Topic3\", \"Topic3\", \"Topic3\", \"Topic3\", \"Topic3\", \"Topic3\", \"Topic3\", \"Topic3\", \"Topic3\", \"Topic3\", \"Topic3\", \"Topic3\", \"Topic3\", \"Topic3\", \"Topic3\", \"Topic3\", \"Topic3\", \"Topic3\", \"Topic3\", \"Topic3\", \"Topic3\", \"Topic4\", \"Topic4\", \"Topic4\", \"Topic4\", \"Topic4\", \"Topic4\", \"Topic4\", \"Topic4\", \"Topic4\", \"Topic4\", \"Topic4\", \"Topic4\", \"Topic4\", \"Topic4\", \"Topic4\", \"Topic4\", \"Topic4\", \"Topic4\", \"Topic4\", \"Topic4\", \"Topic4\", \"Topic4\", \"Topic4\", \"Topic4\", \"Topic4\", \"Topic4\", \"Topic4\", \"Topic4\", \"Topic4\", \"Topic4\", \"Topic4\", \"Topic4\", \"Topic4\", \"Topic4\", \"Topic4\", \"Topic4\", \"Topic4\", \"Topic4\", \"Topic4\", \"Topic4\", \"Topic4\", \"Topic4\", \"Topic4\", \"Topic4\", \"Topic4\", \"Topic5\", \"Topic5\", \"Topic5\", \"Topic5\", \"Topic5\", \"Topic5\", \"Topic5\", \"Topic5\", \"Topic5\", \"Topic5\", \"Topic5\", \"Topic5\", \"Topic5\", \"Topic5\", \"Topic5\", \"Topic5\", \"Topic5\", \"Topic5\", \"Topic5\", \"Topic5\", \"Topic5\", \"Topic5\", \"Topic5\", \"Topic5\", \"Topic5\", \"Topic5\", \"Topic5\", \"Topic5\", \"Topic5\", \"Topic5\", \"Topic5\", \"Topic5\", \"Topic5\", \"Topic5\", \"Topic5\", \"Topic5\", \"Topic5\", \"Topic5\", \"Topic5\", \"Topic6\", \"Topic6\", \"Topic6\", \"Topic6\", \"Topic6\", \"Topic6\", \"Topic6\", \"Topic6\", \"Topic6\", \"Topic6\", \"Topic6\", \"Topic6\", \"Topic6\", \"Topic6\", \"Topic6\", \"Topic6\", \"Topic6\", \"Topic6\", \"Topic6\", \"Topic6\", \"Topic6\", \"Topic6\", \"Topic6\", \"Topic6\", \"Topic6\", \"Topic6\", \"Topic6\", \"Topic6\", \"Topic6\", \"Topic6\", \"Topic6\", \"Topic6\", \"Topic6\", \"Topic6\", \"Topic6\", \"Topic6\", \"Topic6\", \"Topic6\", \"Topic6\", \"Topic6\", \"Topic6\", \"Topic6\", \"Topic6\", \"Topic6\", \"Topic7\", \"Topic7\", \"Topic7\", \"Topic7\", \"Topic7\", \"Topic7\", \"Topic7\", \"Topic7\", \"Topic7\", \"Topic7\", \"Topic7\", \"Topic7\", \"Topic7\", \"Topic7\", \"Topic7\", \"Topic7\", \"Topic7\", \"Topic7\", \"Topic7\", \"Topic7\", \"Topic7\", \"Topic7\", \"Topic7\", \"Topic7\", \"Topic7\", \"Topic7\", \"Topic7\", \"Topic7\", \"Topic7\", \"Topic7\", \"Topic7\", \"Topic7\", \"Topic7\", \"Topic7\", \"Topic7\", \"Topic7\", \"Topic7\", \"Topic7\", \"Topic7\", \"Topic7\", \"Topic7\", \"Topic7\", \"Topic7\", \"Topic7\", \"Topic7\", \"Topic7\", \"Topic7\", \"Topic7\", \"Topic7\", \"Topic8\", \"Topic8\", \"Topic8\", \"Topic8\", \"Topic8\", \"Topic8\", \"Topic8\", \"Topic8\", \"Topic8\", \"Topic8\", \"Topic8\", \"Topic8\", \"Topic8\", \"Topic8\", \"Topic8\", \"Topic8\", \"Topic8\", \"Topic8\", \"Topic8\", \"Topic8\", \"Topic8\", \"Topic8\", \"Topic8\", \"Topic8\", \"Topic8\", \"Topic8\", \"Topic8\", \"Topic8\", \"Topic8\", \"Topic8\", \"Topic8\", \"Topic8\", \"Topic8\", \"Topic8\", \"Topic8\", \"Topic8\", \"Topic8\", \"Topic8\", \"Topic8\", \"Topic8\", \"Topic8\", \"Topic9\", \"Topic9\", \"Topic9\", \"Topic9\", \"Topic9\", \"Topic9\", \"Topic9\", \"Topic9\", \"Topic9\", \"Topic9\", \"Topic9\", \"Topic9\", \"Topic9\", \"Topic9\", \"Topic9\", \"Topic9\", \"Topic9\", \"Topic9\", \"Topic9\", \"Topic9\", \"Topic9\", \"Topic9\", \"Topic9\", \"Topic9\", \"Topic9\", \"Topic9\", \"Topic9\", \"Topic9\", \"Topic9\", \"Topic9\", \"Topic9\", \"Topic9\", \"Topic9\", \"Topic9\", \"Topic9\", \"Topic9\", \"Topic9\", \"Topic9\", \"Topic9\", \"Topic9\", \"Topic9\", \"Topic9\", \"Topic9\", \"Topic9\", \"Topic9\", \"Topic9\", \"Topic9\", \"Topic9\", \"Topic9\", \"Topic10\", \"Topic10\", \"Topic10\", \"Topic10\", \"Topic10\", \"Topic10\", \"Topic10\", \"Topic10\", \"Topic10\", \"Topic10\", \"Topic10\", \"Topic10\", \"Topic10\", \"Topic10\", \"Topic10\", \"Topic10\", \"Topic10\", \"Topic10\", \"Topic10\", \"Topic10\", \"Topic10\", \"Topic10\", \"Topic10\", \"Topic10\", \"Topic10\", \"Topic10\", \"Topic10\", \"Topic10\", \"Topic10\", \"Topic10\", \"Topic10\", \"Topic10\", \"Topic10\", \"Topic10\", \"Topic10\", \"Topic10\", \"Topic10\", \"Topic10\", \"Topic10\", \"Topic10\", \"Topic10\", \"Topic10\", \"Topic10\", \"Topic10\", \"Topic10\", \"Topic10\", \"Topic10\", \"Topic10\", \"Topic10\", \"Topic10\", \"Topic10\", \"Topic10\", \"Topic10\", \"Topic10\", \"Topic10\", \"Topic10\"], \"Term\": [\"percent\", \"noriega\", \"peres\", \"year\", \"official\", \"panama\", \"us\", \"would\", \"offer\", \"rose\", \"police\", \"production\", \"doctors\", \"ferrets\", \"bechtel\", \"oil\", \"rappaport\", \"october\", \"mrs\", \"rate\", \"operating\", \"also\", \"years\", \"people\", \"november\", \"million\", \"israel\", \"last\", \"national\", \"made\", \"stirbois\", \"vote\", \"robb\", \"governor\", \"pen\", \"elections\", \"paris\", \"le\", \"national\", \"front\", \"dreux\", \"deputy\", \"extreme-right\", \"ran\", \"member\", \"dawkins\", \"bid\", \"virginias\", \"making\", \"democrats\", \"1977\", \"conservative\", \"johnson\", \"percent\", \"presidential\", \"highest\", \"manufacturing\", \"later\", \"percentage\", \"toward\", \"rate\", \"october\", \"production\", \"former\", \"government\", \"last\", \"operating\", \"first\", \"goods\", \"use\", \"panama\", \"three\", \"november\", \"noriega\", \"us\", \"years\", \"today\", \"american\", \"rose\", \"year\", \"skins\", \"since\", \"officials\", \"president\", \"peres\", \"offer\", \"bechtel\", \"rappaport\", \"pipeline\", \"memo\", \"company\", \"san\", \"meese\", \"iraqi\", \"close\", \"francisco\", \"rappaports\", \"bomb\", \"near\", \"israel\", \"border\", \"reached\", \"jordan\", \"denied\", \"1985\", \"israels\", \"attorney\", \"handling\", \"unimportant\", \"friend\", \"wallach\", \"bechtels\", \"foreign\", \"swiss\", \"oil\", \"official\", \"10\", \"made\", \"ministry\", \"september\", \"percent\", \"would\", \"sales\", \"million\", \"town\", \"least\", \"november\", \"years\", \"month\", \"state\", \"iraqs\", \"amid\", \"congress\", \"press\", \"reports\", \"boys\", \"august\", \"classroom\", \"sanctions\", \"thurston\", \"priority\", \"iraq\", \"marino\", \"says\", \"apparently\", \"atlantic\", \"pistol\", \"guns\", \"school\", \"washington\", \"tackled\", \"boy\", \"wounded\", \"students\", \"hour\", \"teacher\", \"shootings\", \"parents\", \"christian\", \"pastor\", \"h\", \"jammed\", \"shot\", \"police\", \"noriega\", \"country\", \"us\", \"one\", \"killed\", \"president\", \"man\", \"would\", \"panama\", \"american\", \"first\", \"valentines\", \"loveland\", \"volunteers\", \"cupid\", \"verse\", \"thompson\", \"mail\", \"50\", \"residents\", \"union\", \"support\", \"world\", \"surat\", \"program\", \"rank-and-file\", \"slum\", \"people\", \"south\", \"25000\", \"get\", \"worst\", \"appears\", \"workers\", \"seven\", \"post\", \"town\", \"skins\", \"least\", \"song\", \"thursday\", \"japan\", \"illegal\", \"trade\", \"new\", \"year\", \"since\", \"state\", \"teacher\", \"died\", \"american\", \"school\", \"police\", \"would\", \"first\", \"us\", \"mrs\", \"liberace\", \"jewelry\", \"bloomberg\", \"gunman\", \"museum\", \"stay\", \"sat\", \"case\", \"tried\", \"hostage\", \"money\", \"cool\", \"tied\", \"margaret\", \"want\", \"wanted\", \"woman\", \"hands\", \"door\", \"back\", \"entertainer\", \"offered\", \"man\", \"police\", \"know\", \"car\", \"shot\", \"able\", \"outside\", \"gun\", \"told\", \"would\", \"one\", \"noriega\", \"years\", \"us\", \"students\", \"panama\", \"strait\", \"award\", \"vocal\", \"music\", \"awards\", \"ford\", \"headhunters\", \"vocalist\", \"tour\", \"crystal\", \"ceremony\", \"ranch\", \"singer\", \"wasnt\", \"great\", \"going\", \"henry\", \"together\", \"fame\", \"dance\", \"clear\", \"late\", \"country\", \"single\", \"hard\", \"asked\", \"went\", \"keep\", \"year\", \"industry\", \"entertainer\", \"top\", \"black\", \"made\", \"home\", \"group\", \"back\", \"one\", \"outside\", \"mrs\", \"get\", \"museum\", \"liberace\", \"police\", \"union\", \"workers\", \"appears\", \"rank-and-file\", \"support\", \"members\", \"labor\", \"candidates\", \"children\", \"bitten\", \"pets\", \"nearly\", \"bites\", \"single\", \"ferret\", \"ferrets\", \"democratic\", \"behind\", \"richard\", \"attacks\", \"babies\", \"jesse\", \"doctors\", \"small\", \"none\", \"united\", \"dogs\", \"pet\", \"increasingly\", \"half\", \"two\", \"tried\", \"bloomberg\", \"gunman\", \"liberace\", \"mrs\", \"votes\", \"states\", \"year\", \"percent\", \"one\", \"museum\", \"also\", \"would\", \"back\", \"police\", \"jackson\", \"new\", \"peres\", \"drood\", \"sang\", \"standards\", \"theater\", \"tony\", \"buckley\", \"roses\", \"actor\", \"walked\", \"george\", \"called\", \"sunday\", \"always\", \"anything\", \"rose\", \"nearly\", \"edwin\", \"lived\", \"together\", \"lady\", \"away\", \"dogs\", \"actress\", \"republic\", \"working\", \"daughter\", \"wednesday\", \"teacher\", \"home\", \"high\", \"best\", \"killed\", \"police\", \"shot\", \"liberace\", \"years\", \"school\", \"one\", \"mrs\", \"year\", \"museum\", \"bechtels\", \"offer\", \"swiss\", \"peres\", \"bechtel\", \"rappaport\", \"unimportant\", \"friend\", \"children\", \"israels\", \"memo\", \"pipeline\", \"san\", \"reached\", \"handling\", \"meese\", \"denied\", \"attorney\", \"1985\", \"francisco\", \"near\", \"jordan\", \"wallach\", \"wednesday\", \"third\", \"bomb\", \"babies\", \"ferret\", \"israel\", \"official\", \"ferrets\", \"foreign\", \"doctors\", \"million\", \"company\", \"made\", \"oil\", \"would\", \"percent\", \"also\", \"production\", \"school\", \"september\", \"two\", \"ministry\", \"october\", \"rate\", \"years\", \"year\", \"valentines\", \"cupid\", \"mail\", \"verse\", \"thompson\", \"volunteers\", \"perhaps\", \"program\", \"might\", \"loveland\", \"act\", \"noriega\", \"sent\", \"powell\", \"pressure\", \"forces\", \"1300\", \"thing\", \"leave\", \"economic\", \"thats\", \"get\", \"diplomatic\", \"85\", \"estimated\", \"cuba\", \"central\", \"defense\", \"control\", \"continue\", \"examining\", \"panama\", \"channels\", \"monday\", \"panamanian\", \"people\", \"security\", \"us\", \"letter\", \"administration\", \"jackson\", \"would\", \"general\", \"officials\", \"percent\", \"year\", \"law\", \"last\", \"president\", \"operating\", \"police\", \"since\", \"american\", \"former\", \"official\", \"could\"], \"loglift\": [30.0, 29.0, 28.0, 27.0, 26.0, 25.0, 24.0, 23.0, 22.0, 21.0, 20.0, 19.0, 18.0, 17.0, 16.0, 15.0, 14.0, 13.0, 12.0, 11.0, 10.0, 9.0, 8.0, 7.0, 6.0, 5.0, 4.0, 3.0, 2.0, 1.0, 0.82069999999999999, 0.79469999999999996, 0.79149999999999998, 0.77969999999999995, 0.77329999999999999, 0.7732, 0.7722, 0.77080000000000004, 0.73619999999999997, 0.7258, 0.71879999999999999, 0.71650000000000003, 0.71640000000000004, 0.70589999999999997, 0.69620000000000004, 0.68759999999999999, 0.68169999999999997, 0.67920000000000003, 0.67459999999999998, 0.67410000000000003, 0.67200000000000004, 0.67169999999999996, 0.6714, 0.66180000000000005, 0.65869999999999995, 0.64559999999999995, 0.63949999999999996, 0.62980000000000003, 0.61280000000000001, 0.60099999999999998, 0.58899999999999997, 0.58330000000000004, 0.57789999999999997, 0.58679999999999999, 0.58260000000000001, 0.52049999999999996, 0.54459999999999997, 0.4229, 0.54369999999999996, 0.50970000000000004, 0.42830000000000001, 0.47849999999999998, 0.42870000000000003, 0.2878, 0.26500000000000001, 0.2349, 0.45319999999999999, 0.2422, 0.27739999999999998, -0.25459999999999999, 0.27579999999999999, 0.23050000000000001, 0.42249999999999999, 0.2074, 1.9694, 1.9286000000000001, 1.9235, 1.8936999999999999, 1.8915999999999999, 1.8758999999999999, 1.8353999999999999, 1.7818000000000001, 1.7775000000000001, 1.7323, 1.716, 1.7098, 1.7069000000000001, 1.7048000000000001, 1.6919, 1.6843999999999999, 1.6832, 1.6761999999999999, 1.6746000000000001, 1.6720999999999999, 1.6636, 1.6593, 1.6551, 1.6464000000000001, 1.6438999999999999, 1.6435999999999999, 1.6274999999999999, 1.6269, 1.5983000000000001, 1.5824, 1.5636000000000001, 1.4964, 1.4012, 1.1120000000000001, 1.1908000000000001, 1.4256, 0.011599999999999999, 0.40739999999999998, 1.3825000000000001, 0.77410000000000001, 1.3822000000000001, 0.92769999999999997, 0.3115, -0.031800000000000002, 0.43440000000000001, 0.30470000000000003, 2.0053999999999998, 1.6920999999999999, 1.5879000000000001, 1.5770999999999999, 1.5025999999999999, 1.4538, 1.4449000000000001, 1.4131, 1.3899999999999999, 1.3584000000000001, 1.3560000000000001, 1.3532999999999999, 1.3375999999999999, 1.3337000000000001, 1.3266, 1.3196000000000001, 1.3188, 1.3178000000000001, 1.3075000000000001, 1.3059000000000001, 1.3031999999999999, 1.3031999999999999, 1.2837000000000001, 1.2775000000000001, 1.2642, 1.2587999999999999, 1.2586999999999999, 1.2566999999999999, 1.2296, 1.2142999999999999, 1.1694, 1.1731, 0.95189999999999997, 0.48380000000000001, 0.45200000000000001, 0.68440000000000001, 0.3765, 0.38890000000000002, 0.76039999999999996, 0.40629999999999999, 0.54149999999999998, 0.0465, 0.1153, 0.2094, -0.062300000000000001, 1.9360999999999999, 1.8109999999999999, 1.7818000000000001, 1.7786, 1.772, 1.7708999999999999, 1.7649999999999999, 1.5980000000000001, 1.5092000000000001, 1.472, 1.4268000000000001, 1.4006000000000001, 1.3803000000000001, 1.3738999999999999, 1.3732, 1.3352999999999999, 1.3273999999999999, 1.3179000000000001, 1.3097000000000001, 1.3097000000000001, 1.2749999999999999, 1.2539, 1.2188000000000001, 1.2109000000000001, 1.1926000000000001, 1.1695, 1.1591, 1.1561999999999999, 1.1493, 1.1459999999999999, 1.0799000000000001, 1.1294999999999999, 1.0385, 0.88700000000000001, 0.32719999999999999, 0.66820000000000002, 0.71870000000000001, 0.75, 0.6673, 0.3826, 0.62170000000000003, -0.12690000000000001, -0.0253, -0.043299999999999998, -0.16500000000000001, 1.8925000000000001, 1.8170999999999999, 1.8136000000000001, 1.8102, 1.7684, 1.7463, 1.7257, 1.7201, 1.7189000000000001, 1.6778, 1.6724000000000001, 1.6505000000000001, 1.6234, 1.6212, 1.6132, 1.6091, 1.5732999999999999, 1.5706, 1.5401, 1.4439, 1.4361999999999999, 1.3902000000000001, 1.3632, 1.335, 1.2972999999999999, 1.2712000000000001, 1.2359, 1.202, 1.1951000000000001, 1.163, 1.1117999999999999, 1.0541, 0.37580000000000002, 0.44769999999999999, 0.11940000000000001, 0.14630000000000001, -0.092600000000000002, 0.73280000000000001, -0.1011, 2.2471000000000001, 2.218, 2.1530999999999998, 2.0994999999999999, 2.0985, 2.0762, 2.0676999999999999, 2.0548000000000002, 2.0501, 2.0442999999999998, 2.0383, 2.0362, 1.6269, 1.5866, 1.5845, 1.5511999999999999, 1.5511999999999999, 1.5496000000000001, 1.5451999999999999, 1.5038, 1.5026999999999999, 1.484, 1.4725999999999999, 1.446, 1.4409000000000001, 1.4362999999999999, 1.4351, 1.4187000000000001, 1.4087000000000001, 1.4041999999999999, 1.4005000000000001, 1.2857000000000001, 1.1967000000000001, 1.1129, 1.3202, 1.0606, 0.94640000000000002, 0.59160000000000001, 1.1997, 0.5827, 1.0105, 0.66220000000000001, 0.68000000000000005, -0.1255, 1.9943, 1.9084000000000001, 1.8734, 1.7332000000000001, 1.6566000000000001, 1.6082000000000001, 1.4806999999999999, 1.4654, 1.3407, 1.3069999999999999, 1.3047, 1.2778, 1.2766999999999999, 1.2650999999999999, 1.2524, 1.2264999999999999, 1.2114, 1.1667000000000001, 1.1585000000000001, 1.1427, 1.1237999999999999, 1.1011, 1.0986, 1.0854999999999999, 1.0677000000000001, 1.0406, 1.0193000000000001, 1.0104, 0.99570000000000003, 0.98999999999999999, 0.91579999999999995, 0.96399999999999997, 0.88819999999999999, 0.93759999999999999, 0.74180000000000001, 0.6391, 0.82189999999999996, 0.72260000000000002, 0.080600000000000005, -0.24160000000000001, 0.32890000000000003, 0.51790000000000003, 0.35220000000000001, 0.00089999999999999998, 0.4642, -0.14530000000000001, 0.29899999999999999, 0.37540000000000001, 0.1303, 2.8904999999999998, 2.7909000000000002, 2.6379000000000001, 2.6326999999999998, 2.6107, 2.5693000000000001, 2.5552000000000001, 2.3500999999999999, 2.3469000000000002, 2.0861999999999998, 1.9672000000000001, 1.9473, 1.9126000000000001, 1.8733, 1.8632, 1.8329, 1.8286, 1.7964, 1.7765, 1.7145999999999999, 1.7022999999999999, 1.6994, 1.6910000000000001, 1.6543000000000001, 1.6354, 1.5892999999999999, 1.5525, 1.5426, 1.5245, 1.5029999999999999, 1.4581, 1.0806, 0.43049999999999999, 0.86760000000000004, 0.81299999999999994, 0.34510000000000002, 0.80289999999999995, 0.39389999999999997, 0.50649999999999995, -0.54559999999999997, 0.53680000000000005, 1.5738000000000001, 1.5703, 1.5701000000000001, 1.5153000000000001, 1.4418, 1.4359999999999999, 1.4334, 1.4018999999999999, 1.3365, 1.329, 1.3153999999999999, 1.3150999999999999, 1.3129999999999999, 1.3119000000000001, 1.3111999999999999, 1.3106, 1.2730999999999999, 1.2230000000000001, 1.2173, 1.2101999999999999, 1.2101999999999999, 1.1677, 1.1577999999999999, 1.1463000000000001, 1.1425000000000001, 1.1397999999999999, 1.1365000000000001, 1.1289, 1.1264000000000001, 1.1148, 1.1015999999999999, 1.0983000000000001, 1.0115000000000001, 0.92959999999999998, 1.0367999999999999, 0.87129999999999996, 0.79949999999999999, 0.48220000000000002, -0.14380000000000001, 0.5675, 0.27589999999999998, 0.46200000000000002, 1.0176000000000001, 0.52910000000000001, 0.67469999999999997, 0.14630000000000001, 0.13389999999999999, -0.21640000000000001, -0.87290000000000001, 1.4712000000000001, 1.4567000000000001, 1.4200999999999999, 1.3806, 1.2734000000000001, 1.2479, 1.1225000000000001, 1.1205000000000001, 1.0831, 1.042, 0.99890000000000001, 0.95469999999999999, 0.92969999999999997, 0.92369999999999997, 0.92210000000000003, 0.90869999999999995, 0.88300000000000001, 0.87680000000000002, 0.87660000000000005, 0.87319999999999998, 0.86860000000000004, 0.8669, 0.85529999999999995, 0.83589999999999998, 0.80789999999999995, 0.79420000000000002, 0.79269999999999996, 0.78800000000000003, 0.78690000000000004, 0.78090000000000004, 0.754, 0.63629999999999998, 0.75039999999999996, 0.67559999999999998, 0.67149999999999999, 0.58440000000000003, 0.71089999999999998, 0.40710000000000002, 0.68740000000000001, 0.57410000000000005, 0.44269999999999998, 0.097699999999999995, 0.45050000000000001, 0.35570000000000002, -0.63290000000000002, -0.4763, 0.56630000000000003, 0.1163, 0.036700000000000003, 0.19020000000000001, -0.41739999999999999, -0.039699999999999999, -0.13930000000000001, 0.1787, -0.058599999999999999, 0.29389999999999999], \"Freq\": [37.0, 13.0, 8.0, 21.0, 8.0, 11.0, 13.0, 12.0, 5.0, 8.0, 14.0, 9.0, 6.0, 5.0, 4.0, 7.0, 4.0, 8.0, 7.0, 8.0, 7.0, 7.0, 11.0, 7.0, 8.0, 6.0, 5.0, 8.0, 14.0, 5.0, 6.2504800560934886, 5.0078641209191339, 5.9502208489472004, 4.8574793777155669, 3.8137596026413436, 3.8102269860919269, 3.7813918062021781, 3.739008223428431, 12.068005405609695, 6.0483071962574781, 2.5900301722671011, 2.5570621976606458, 2.555488131955522, 2.5354332361044469, 2.4659043333727646, 2.45928438239573, 2.3975559037424841, 2.3827788957770668, 2.399067056996774, 2.395020687725478, 3.2043977431134736, 2.3609546714210472, 2.3611944888157397, 29.443139467704583, 3.1279112893849481, 3.7247169335149035, 5.1518580203610229, 2.9375869534134718, 2.8329144529796824, 2.1102587498354546, 6.1014750234998063, 6.0317429371817584, 6.5987027170095818, 5.0057480669323287, 4.8256467928776186, 5.627286549203709, 4.9577729000218733, 7.7665482350048407, 4.473019344939563, 5.1574446250200854, 7.0714324644158504, 4.8402042787231609, 5.4882006332261017, 7.5594482791168227, 7.2615874488717633, 6.0287365728326705, 4.1606507055372939, 5.0301203317004415, 4.8197856082864829, 6.695055275904692, 4.7928562038312386, 4.6098963167187419, 4.2262144267333737, 4.4467833978682068, 6.8642710280171073, 4.6102052177320756, 3.8005570256583754, 3.6666239859251681, 2.8291044247930106, 2.7779412730207502, 2.3277985977985485, 1.6684301624341189, 1.6595740715092389, 1.2583835292126841, 1.2111211028730313, 1.1819930661132221, 1.2187922705985534, 1.1883823448876469, 1.1553110782862026, 3.2050184131807669, 1.1742599481374871, 1.1145138752686441, 1.1442505452578349, 1.1177112122999144, 1.1191791186164439, 1.0904356490329388, 1.1054218791745263, 1.0773435691468844, 1.0459998434843722, 1.0534461036096345, 1.0836726854030418, 0.99440546285471931, 2.2336142188025567, 0.94603589119383802, 3.9510004513745236, 4.424701716835683, 1.7694563473034512, 2.0579350019050411, 1.6420554291841207, 1.3134732518205687, 4.2724491987638613, 2.1298647937154342, 1.2490748096184821, 1.5097881337617645, 1.2249283526753079, 1.3259343584510441, 1.3570825242946463, 1.2836706628742898, 1.2186112542065723, 1.2164882357601183, 2.5612280532120546, 1.7208224372036476, 1.4987813021028273, 1.3415963499855974, 1.3415972167073933, 1.7093107863206787, 1.3415967155602544, 1.6269936496732844, 1.6062429807351328, 1.5014265063630099, 1.3415953195249186, 1.3415942390270759, 1.1636294953367705, 1.4461826519800716, 0.89410393195407212, 0.87559703025668589, 0.88589162888808393, 1.1587501406375549, 2.6299253120850326, 2.850000474181515, 0.86372450098543896, 1.4176474799992083, 0.82886757889139828, 1.9838813796707173, 0.90738861616413791, 2.2784031420178263, 0.79090409621019797, 0.8172037702156697, 0.77335879250905115, 0.77841458714360923, 1.1721701319024964, 0.96120099318407215, 1.773308409238979, 2.5926008433587868, 2.4518322644841288, 1.651173601712661, 2.2341533525004063, 1.7689334156663796, 1.3117795533834573, 1.4930341987277569, 1.3415962160252877, 1.4695833854357374, 1.4232192715732452, 1.3397393188353806, 1.3157698269849254, 2.1447859284125119, 1.2050572209612351, 1.1442559576289375, 1.0987429386423058, 1.1099222045529826, 1.130652028485696, 1.0960583551339693, 1.0528292925275033, 1.0205721157799872, 1.7656848851144757, 0.85464457507382363, 0.95353240248449411, 0.91004710718091586, 1.1440795803914148, 0.80706411043209481, 0.87406957933686869, 3.0153845715969876, 1.297020408437259, 0.85413921730967546, 1.7087144026133554, 0.82777528117167354, 0.71101617491473323, 0.68509839923290572, 1.1997512271362902, 0.6335320237854698, 0.9419082497795066, 3.0659245597216294, 1.5850289402769846, 1.606761393013753, 1.1226681110924577, 1.9913279113504618, 1.1321216986334812, 1.6350035776019332, 1.7518939177456287, 3.1680311814492961, 1.8885506037347757, 1.7506141548685681, 1.316194178231086, 1.3811140201590366, 1.5308190249255269, 1.2728437775768033, 1.3526608703917726, 1.3143155773536452, 1.2885589561710649, 1.2491012723456412, 4.7933253236825539, 3.5988909193887388, 2.1521725767946496, 2.8691064774652233, 1.7106196354722567, 3.5368866169257851, 1.0156575250990441, 1.311649663762235, 1.0001367758229955, 1.5302715777777838, 1.2207550245477279, 0.920404020253071, 0.89550322801134619, 0.89388497592579463, 0.88873143838430013, 0.87498283638746188, 0.84765136706347621, 0.84288710237641407, 0.82316552430265055, 1.5354922856100728, 2.4113678701398786, 0.95492925178169152, 0.90126749264787209, 2.4093891346365472, 4.7503734937652808, 0.63633296226791214, 0.9947536482027709, 1.8496293506112886, 0.57622240036940719, 0.95190785623411189, 1.1034845797837365, 0.87780273852029733, 1.659163673131258, 1.5238238974241833, 1.4279750793510009, 1.2334206118422455, 1.1351777318655107, 0.93466323641734539, 0.93102857445224385, 3.1459714676295021, 3.0355793735776997, 1.8954453220856426, 2.7022757094543453, 2.5224411845475441, 1.3152141463798654, 1.3017674459039983, 1.2820421157812414, 1.2757480987481815, 1.2660779369221158, 1.258596463331294, 1.2576331373429734, 0.93136786192803445, 0.7797991393630247, 0.89568110080271113, 0.75563900873955792, 0.87120972745314862, 0.67158541246610237, 0.756884921021164, 0.83481217549350528, 0.72986211071906459, 0.93009310768347353, 2.6739347379413436, 0.68218861424277089, 0.65988417416127376, 0.6723999776455537, 1.4582243267913593, 0.65780561686905603, 7.1581812780353502, 0.75131446517414113, 0.87455317318523373, 1.4330102994790144, 1.4332115950909883, 1.5012655947129767, 0.92189454620154176, 1.4641120961874832, 1.3393058036105288, 1.5949180299458199, 0.8950870816865254, 1.1725847120521193, 0.97075552574702428, 1.0843585894994965, 1.0463430837669603, 1.0378560001714858, 1.4859600410028229, 0.68152915312241402, 0.65940806569343235, 0.57742209961145108, 0.53680805973519741, 0.68838690997400542, 0.42980943303072577, 0.65184893238788189, 0.53055383433002146, 0.4042381790488378, 0.56567832217583114, 0.32292980010899131, 0.73478684524491744, 0.37089115036780645, 0.38348355746860874, 1.0704182974800711, 0.69895997884595085, 0.34576100625810041, 0.37488465763545503, 0.3524703299201124, 0.34294593944090412, 0.33968702825148073, 0.98057000877352263, 0.32305232364907388, 0.30448642864211245, 0.52950740371735794, 0.26373847557560154, 0.31198884900503282, 0.31141573848033605, 0.35865741005252483, 0.73513599303244159, 0.4425753886906364, 0.67386444860547978, 0.44008361066571039, 0.72510300585499499, 0.80821989455616894, 0.51654277616051825, 0.5744635447579719, 1.2356942480217121, 1.5748198159889724, 0.79903290554226314, 0.61148653486126314, 0.58052695500941487, 0.67345550433094403, 0.53872751073127734, 0.66287253861793227, 0.54785386387665347, 0.52429780696719985, 0.51811148573874233, 1.297680579575879, 1.218362911308148, 0.65583272243576796, 0.65302689785395518, 0.64301307165769772, 0.62351211178469368, 0.61861590513479037, 0.94423578911912709, 0.70563275874794107, 0.72909845583088173, 0.38989511268121035, 0.38595094192339585, 0.39673155856784226, 0.34771728124743678, 1.8818833147546077, 0.34079289822834791, 0.3397079145094738, 0.35061554178872351, 0.33251935390242437, 0.35436653711374716, 0.40274725324753752, 0.31536214817738617, 0.34411400584316171, 0.33757906914624947, 0.42636175361929163, 0.34935396926909951, 0.34302195192808077, 0.8791945510116409, 0.44621367581870486, 0.39004869562536515, 0.38661063893076375, 0.52498017970602184, 0.71411858623348001, 0.47356737594045628, 0.47161359102888173, 0.53821140668487111, 0.46130302532521694, 0.51651011254159296, 0.42878158646857523, 0.40018804511163303, 0.3774464235618219, 0.0066246617408894249, 0.022633319727887159, 0.0065650268484504972, 0.030620856538821954, 0.016492138748708213, 0.016297179898786165, 0.0059533193386790279, 0.0058115713692436293, 0.0078162834269140079, 0.0055055456541805853, 0.011141982435639573, 0.011166104556706807, 0.0073339844456006735, 0.0054388125396399416, 0.0054126199187396152, 0.0073089141899665595, 0.0052682606260065655, 0.0050410398486759904, 0.0050314627454453569, 0.0050382055965431357, 0.0050133967171194973, 0.0048420350895949727, 0.004759092276661798, 0.0055814202024274716, 0.0080864261853938798, 0.0047446671733070451, 0.0051387889492242184, 0.0050143812569489014, 0.012885997801385347, 0.021220450455018653, 0.013976488986426666, 0.0095173258665352568, 0.013297892669570698, 0.012390528390014413, 0.0073577978787573231, 0.011365107127958039, 0.012926633856785816, 0.016123457714057945, 0.025694072942414752, 0.010651547719117067, 0.0095284707706365778, 0.0080125253284602758, 0.0061357994515822793, 0.007388493084031905, 0.0068846180901918751, 0.0076096312328408867, 0.0075600169093705529, 0.0074977040615338813, 0.0070458772626508098, 0.0099507666366318338, 0.0058808007393912334, 0.0057333894276598869, 0.0055415282494354996, 0.005076936178277122, 0.0049545604997687032, 0.0049905989469823161, 0.0065580605537032578, 0.0047959393153752024, 0.0041246611857788011, 0.0048976833274252621, 0.028763288645456686, 0.0062079692268333184, 0.011144816593372815, 0.006244356500590794, 0.0061672269035571688, 0.0043799197406013757, 0.0050484988291667598, 0.0044415600216640193, 0.0090328831819104487, 0.0061383694046548785, 0.008104552567343163, 0.0042646470410938392, 0.0040210514469203673, 0.0033957716482984125, 0.0040556211969339003, 0.0041308322527242106, 0.0075648535140800267, 0.004024485829394811, 0.0040979385027859463, 0.0054714533049124367, 0.017003697269653926, 0.0053583363838735423, 0.0079807114340553799, 0.0077473058364719537, 0.010592798056619796, 0.0062228809586744229, 0.016346206319183921, 0.0064204845882997212, 0.0080850662714152099, 0.0093577886269440736, 0.010976118776665265, 0.0071870117246921822, 0.0077199055289023585, 0.015754603328400719, 0.010474671917668177, 0.0064490561946286221, 0.0073360635585099391, 0.0073209799310190718, 0.0067932061814559366, 0.0074707941787642944, 0.0068714670907784325, 0.006707701237755311, 0.0065005481436218055, 0.006564148700858293, 0.0063021540687247914], \"Total\": [37.0, 13.0, 8.0, 21.0, 8.0, 11.0, 13.0, 12.0, 5.0, 8.0, 14.0, 9.0, 6.0, 5.0, 4.0, 7.0, 4.0, 8.0, 7.0, 8.0, 7.0, 7.0, 11.0, 7.0, 8.0, 6.0, 5.0, 8.0, 14.0, 5.0, 6.7668062205031578, 5.5642372898185011, 6.6327232051004543, 5.4788011450373997, 4.3290247670655289, 4.3255220067508695, 4.2969366940216691, 4.2549180287953838, 14.216057074890065, 7.1997610565451176, 3.1048105197261369, 3.072126445383784, 3.0705665834095623, 3.078780377086157, 3.0234442722317949, 3.0415392696636339, 2.9826734416587497, 2.9717034271145693, 3.0058801426105393, 3.0021662732769521, 4.0253803734398996, 2.9665006962175986, 2.9678418044461163, 37.364342140224004, 3.9815982024782026, 4.8039841998881423, 6.6851377544549866, 3.8492021479613139, 3.7754535958188327, 2.8459093671681446, 8.3280276816838192, 8.2797386183755446, 9.1072658298105047, 6.8473699564021544, 6.6284819151649996, 8.2249898883229751, 7.0737961449943016, 12.515641510131005, 6.3880637185850224, 7.6200781571924008, 11.334426943474359, 7.3783914380248605, 8.7931702415639528, 13.944380343519232, 13.703080480777109, 11.724794645008011, 6.504746379754363, 9.7114721492916836, 8.9832533774540568, 21.242829584996667, 8.947600487150746, 9.0050905336980129, 6.8129819637832929, 8.8887742673400982, 8.4747222164249258, 5.9286502659533227, 4.9124351861398763, 4.8826068269085559, 3.7753565833459604, 3.7659115588077645, 3.2858733415871031, 2.4848776610709029, 2.4823105070688061, 1.9693407211868115, 1.9265292275337205, 1.8917320864377145, 1.9563321324916003, 1.911548401246826, 1.8825180975204341, 5.2615178654670833, 1.9301603251670341, 1.8446859166288934, 1.8970585939103379, 1.8576000302708542, 1.8759755351939431, 1.8357108714485542, 1.8687571159216632, 1.8371185476461112, 1.7881489908759758, 1.8014516008492356, 1.8831897732381571, 1.7292251334109814, 3.996808971256784, 1.7199782225028963, 7.3193402052893388, 8.7661102241689122, 3.8559588687956925, 5.9887363032561485, 4.4162223720123928, 2.7932252743643926, 37.364342140224004, 12.537851572261712, 2.7732789800791569, 6.1598620680741272, 2.72049328969835, 4.6394589520910596, 8.7931702415639528, 11.724794645008011, 6.9825398559599252, 7.9363548093518252, 3.0811985913993545, 2.8320220832300937, 2.7374040863080715, 2.4768345977040274, 2.6683791668946206, 3.5699821741786621, 2.8268356815795452, 3.5391695658582951, 3.5755289806933268, 3.4497244891365355, 3.0898714704886365, 3.0980339746706891, 2.729544911977515, 3.4056084112726071, 2.1206018231936743, 2.0912229728697573, 2.1176127299871537, 2.7727181258894174, 6.3577400095102909, 6.901024307065037, 2.097047056382634, 3.4421070809204037, 2.052088277172329, 4.9422523154845912, 2.2907604335168896, 5.7828352509853591, 2.0075884403669506, 2.078470011174903, 2.0210878153914704, 2.0657182686623625, 3.2533469134258444, 2.6578820354834183, 6.1178398323212084, 14.283668612917651, 13.944380343519232, 7.443537764665944, 13.703080480777109, 10.715319689297866, 5.4806984488611619, 8.8887742673400982, 6.9765515541607508, 12.537851572261712, 11.334426943474359, 9.7114721492916836, 12.515641510131005, 2.8780981343655476, 1.8324659076730407, 1.7915905874597202, 1.7259065837544285, 1.7548964931851125, 1.7897278490749369, 1.7452736670386186, 1.9810114394252787, 2.0987263941743639, 3.7685869893919399, 1.9083835247079675, 2.1858089294920466, 2.1289468665422149, 2.6935703490042493, 1.901416868794644, 2.1387841046430385, 7.4373179736653947, 3.2293220903775697, 2.1442325678065273, 4.2897975957255818, 2.1514419434315286, 1.8873556944227168, 1.8835613810211382, 3.3244886683939154, 1.7880946094195482, 2.72049328969835, 8.947600487150746, 4.6394589520910596, 4.7356514971615713, 3.3197825323120869, 6.2907671231251934, 3.4033477294974985, 5.383492787320904, 6.7119356153228429, 21.242829584996667, 9.0050905336980129, 7.9363548093518252, 5.7828352509853591, 6.5909971375260117, 9.7114721492916836, 6.3577400095102909, 14.283668612917651, 12.537851572261712, 12.515641510131005, 13.703080480777109, 7.9482258872393015, 6.4347254010401258, 3.8616935691486902, 5.1654470402519816, 3.2110699175489938, 6.7880818647414181, 1.9897938435464095, 2.5841314706802532, 1.9727859664773817, 3.1449545873046123, 2.522569485332816, 1.9439888670497054, 1.9433664845038703, 1.9441348848205506, 1.9483673973500089, 1.9261939838366218, 1.9341213623171052, 1.9283037540998544, 1.9415445607179773, 3.9873994922440752, 6.3102548274498753, 2.6165234682252931, 2.537092222841737, 6.9765515541607508, 14.283668612917651, 1.9639264129818097, 3.1804107167820641, 6.1178398323212084, 1.9190456337481696, 3.2737589387702153, 3.9941682914159364, 3.3661745141515866, 12.537851572261712, 10.715319689297866, 13.944380343519232, 11.724794645008011, 13.703080480777109, 4.9422523154845912, 11.334426943474359, 4.0367680842025333, 4.0102982310063684, 2.6718628743281396, 4.019144106234263, 3.755279507445636, 2.0020690837571644, 1.9985393597101571, 1.9937923413347129, 1.9934941246269005, 1.9897550675534887, 1.9899931670887518, 1.9926954789070654, 2.2220005903069078, 1.9368509618144361, 2.2295673144208541, 1.94456770813122, 2.2419830865467056, 1.7310322823162243, 1.9594271955073219, 2.2524926265544245, 1.9715509120884323, 2.5599408678019762, 7.443537764665944, 1.9503517781006994, 1.8962096454483732, 1.9410597911752079, 4.2146619180662936, 1.9326588157634907, 21.242829584996667, 2.2395833438153496, 2.6165234682252931, 4.8091094825056997, 5.2576970974468527, 5.9887363032561485, 2.9887658375112336, 6.1537650609022778, 6.3102548274498753, 10.715319689297866, 3.2737589387702153, 7.9482258872393015, 4.2897975957255818, 6.7880818647414181, 6.4347254010401258, 14.283668612917651, 3.7685869893919399, 1.8835613810211382, 1.8873556944227168, 1.901416868794644, 1.9083835247079675, 2.5685235135162148, 1.8218759332395997, 2.8056109029212792, 2.586736417423237, 2.0385349216287088, 2.8591134508795988, 1.676793108613378, 3.8193074011480994, 1.9503517781006994, 2.0423841348216549, 5.8503662799130263, 3.8781400687776055, 2.0062662644710563, 2.193144915892062, 2.094763961965266, 2.0771014186093026, 2.1045624827562919, 6.0906054455351857, 2.0329330124383715, 1.9506297180835364, 3.485294436765622, 1.7733507175895853, 2.1165807180087426, 2.14396828373948, 2.4833682117203772, 5.4821774872986415, 3.1449545873046123, 5.1654470402519816, 3.2110699175489938, 6.4347254010401258, 7.9482258872393015, 4.230910914972096, 5.1970276122256038, 21.242829584996667, 37.364342140224004, 10.715319689297866, 6.7880818647414181, 7.6056812212058649, 12.537851572261712, 6.3102548274498753, 14.283668612917651, 7.5703347770722624, 6.7119356153228429, 8.4747222164249258, 2.217412234975439, 2.3000339572943069, 1.4427681955997351, 1.4440887387399206, 1.4535134959983151, 1.4690591732029152, 1.4781749549030088, 2.7699644212054655, 2.076623411475083, 2.7847632603529973, 1.6772514878597147, 1.6937605183911897, 1.8025836712423713, 1.6432149431506542, 8.9832533774540568, 1.676793108613378, 1.6786768677350017, 1.7892742617291706, 1.7310322823162243, 1.962598975750492, 2.2581554510340993, 1.7733507175895853, 1.9512180893078874, 1.985800779007401, 2.5558888524668602, 2.1931703384537884, 2.2341531869438835, 5.7828352509853591, 2.9887658375112336, 2.6691299652751139, 2.7671566488866355, 5.4806984488611619, 14.283668612917651, 6.1178398323212084, 6.4347254010401258, 11.724794645008011, 6.3577400095102909, 10.715319689297866, 7.9482258872393015, 21.242829584996667, 6.7880818647414181, 1.7292251334109814, 5.9286502659533227, 1.7199782225028963, 8.4747222164249258, 4.9124351861398763, 4.8826068269085559, 1.7881489908759758, 1.8014516008492356, 2.586736417423237, 1.8357108714485542, 3.7659115588077645, 3.7753565833459604, 2.4848776610709029, 1.8446859166288934, 1.8371185476461112, 2.4823105070688061, 1.8576000302708542, 1.8687571159216632, 1.8759755351939431, 1.8917320864377145, 1.8825180975204341, 1.8970585939103379, 1.8831897732381571, 2.2341531869438835, 3.2490991980708461, 1.911548401246826, 2.0771014186093026, 2.0423841348216549, 5.2615178654670833, 8.7661102241689122, 5.8503662799130263, 3.996808971256784, 6.0906054455351857, 6.1598620680741272, 3.2858733415871031, 5.9887363032561485, 7.3193402052893388, 12.537851572261712, 37.364342140224004, 7.6056812212058649, 9.1072658298105047, 6.3577400095102909, 2.7932252743643926, 5.4821774872986415, 4.4162223720123928, 8.2797386183755446, 8.3280276816838192, 11.724794645008011, 21.242829584996667, 2.8780981343655476, 1.7259065837544285, 1.7452736670386186, 1.7548964931851125, 1.7897278490749369, 1.7915905874597202, 2.0457977486165966, 2.6935703490042493, 2.0449025524285083, 1.8324659076730407, 2.2717036174868062, 13.944380343519232, 3.0858542850247068, 5.5734165908787094, 3.1275908345218277, 3.1308088645066423, 2.2812582675925022, 2.6458733623975359, 2.3283372246265981, 4.7511433062791877, 3.2434588810492544, 4.2897975957255818, 2.2836516719894417, 2.1953984893177307, 1.9066318446685364, 2.3085313311466487, 2.3548543870322067, 4.3329067685499005, 2.3075919135458887, 2.3638671418020407, 3.2422206483394218, 11.334426943474359, 3.1864751812938183, 5.1149906219560775, 4.9857238660705434, 7.4373179736653947, 3.8500102699302485, 13.703080480777109, 4.066596620302823, 5.7350534131397151, 7.5703347770722624, 12.537851572261712, 5.769020373205648, 6.8129819637832929, 37.364342140224004, 21.242829584996667, 4.6107147437015472, 8.2249898883229751, 8.8887742673400982, 7.0737961449943016, 14.283668612917651, 9.0050905336980129, 9.7114721492916836, 6.8473699564021544, 8.7661102241689122, 5.9162065436574007], \"logprob\": [30.0, 29.0, 28.0, 27.0, 26.0, 25.0, 24.0, 23.0, 22.0, 21.0, 20.0, 19.0, 18.0, 17.0, 16.0, 15.0, 14.0, 13.0, 12.0, 11.0, 10.0, 9.0, 8.0, 7.0, 6.0, 5.0, 4.0, 3.0, 2.0, 1.0, -4.8616999999999999, -5.0833000000000004, -4.9108999999999998, -5.1138000000000003, -5.3556999999999997, -5.3566000000000003, -5.3642000000000003, -5.3754999999999997, -4.2038000000000002, -4.8945999999999996, -5.7427000000000001, -5.7554999999999996, -5.7561, -5.7640000000000002, -5.7918000000000003, -5.7945000000000002, -5.8198999999999996, -5.8261000000000003, -5.8192000000000004, -5.8209, -5.5297999999999998, -5.8353000000000002, -5.8352000000000004, -3.3119000000000001, -5.5540000000000003, -5.3792999999999997, -5.0549999999999997, -5.6166999999999998, -5.6529999999999996, -5.9474999999999998, -4.8857999999999997, -4.8973000000000004, -4.8075000000000001, -5.0837000000000003, -5.1204000000000001, -4.9667000000000003, -5.0933999999999999, -4.6444999999999999, -5.1962999999999999, -5.0538999999999996, -4.7382999999999997, -5.1173999999999999, -4.9916999999999998, -4.6715, -4.7117000000000004, -4.8978000000000002, -5.2686999999999999, -5.0789, -5.1215999999999999, -4.7930000000000001, -5.1272000000000002, -5.1661000000000001, -5.2530000000000001, -5.2020999999999997, -3.4878999999999998, -3.8860000000000001, -4.0791000000000004, -4.1150000000000002, -4.3742999999999999, -4.3925000000000001, -4.5693000000000001, -4.9024000000000001, -4.9077000000000002, -5.1844000000000001, -5.2226999999999997, -5.2469999999999999, -5.2164000000000001, -5.2416, -5.2698999999999998, -4.2495000000000003, -5.2535999999999996, -5.3057999999999996, -5.2794999999999996, -5.3029999999999999, -5.3015999999999996, -5.3277000000000001, -5.3140000000000001, -5.3396999999999997, -5.3693, -5.3621999999999996, -5.3338999999999999, -5.4199000000000002, -4.6105999999999998, -5.4696999999999996, -4.0403000000000002, -3.927, -4.8436000000000003, -4.6924999999999999, -4.9183000000000003, -5.1416000000000004, -3.9621, -4.6581999999999999, -5.1917999999999997, -5.0023, -5.2114000000000003, -5.1321000000000003, -5.1089000000000002, -5.1645000000000003, -5.2164999999999999, -5.2183000000000002, -4.4637000000000002, -4.8613, -4.9995000000000003, -5.1102999999999996, -5.1102999999999996, -4.8681000000000001, -5.1102999999999996, -4.9173999999999998, -4.9302000000000001, -4.9977, -5.1102999999999996, -5.1102999999999996, -5.2526000000000002, -5.0351999999999997, -5.5160999999999998, -5.5369999999999999, -5.5252999999999997, -5.2568000000000001, -4.4371999999999998, -4.3567999999999998, -5.5506000000000002, -5.0551000000000004, -5.5918000000000001, -4.7191000000000001, -5.5012999999999996, -4.5807000000000002, -5.6387, -5.6059999999999999, -5.6612, -5.6546000000000003, -5.2453000000000003, -5.4436999999999998, -4.8312999999999997, -4.4515000000000002, -4.5072999999999999, -4.9027000000000003, -4.6002999999999998, -4.8338000000000001, -5.1327999999999996, -5.0033000000000003, -5.1102999999999996, -5.0191999999999997, -5.0511999999999997, -5.1116999999999999, -5.1296999999999997, -4.6012000000000004, -5.1776999999999997, -5.2294999999999998, -5.2701000000000002, -5.2599, -5.2413999999999996, -5.2725, -5.3128000000000002, -5.3438999999999997, -4.7957000000000001, -5.5213000000000001, -5.4118000000000004, -5.4584999999999999, -5.2295999999999996, -5.5785999999999998, -5.4988000000000001, -4.2605000000000004, -5.1041999999999996, -5.5218999999999996, -4.8285, -5.5532000000000004, -5.7053000000000003, -5.7423999999999999, -5.1821000000000002, -5.8207000000000004, -5.4241000000000001, -4.2439, -4.9036, -4.8899999999999997, -5.2484999999999999, -4.6753999999999998, -5.2401, -4.8726000000000003, -4.8034999999999997, -4.2111000000000001, -4.7283999999999997, -4.8042999999999996, -5.0895000000000001, -5.0412999999999997, -4.9383999999999997, -5.1230000000000002, -5.0621999999999998, -5.0909000000000004, -5.1106999999999996, -5.1417999999999999, -3.629, -3.9156, -4.4297000000000004, -4.1421999999999999, -4.6593, -3.9329000000000001, -5.1806999999999999, -4.9249000000000001, -5.1961000000000004, -4.7706999999999997, -4.9966999999999997, -5.2790999999999997, -5.3066000000000004, -5.3083999999999998, -5.3141999999999996, -5.3296999999999999, -5.3615000000000004, -5.3670999999999998, -5.3907999999999996, -4.7672999999999996, -4.3159999999999998, -5.2423000000000002, -5.3000999999999996, -4.3167999999999997, -3.6379999999999999, -5.6482000000000001, -5.2015000000000002, -4.5811999999999999, -5.7474999999999996, -5.2454999999999998, -5.0976999999999997, -5.3265000000000002, -4.6898999999999997, -4.7750000000000004, -4.8399000000000001, -4.9863999999999997, -5.0693999999999999, -5.2637999999999998, -5.2676999999999996, -3.9518, -3.9874999999999998, -4.4584999999999999, -4.1039000000000003, -4.1726999999999999, -4.8239999999999998, -4.8342000000000001, -4.8494999999999999, -4.8544, -4.8620000000000001, -4.8680000000000003, -4.8686999999999996, -5.1691000000000003, -5.3467000000000002, -5.2081, -5.3780999999999999, -5.2358000000000002, -5.4961000000000002, -5.3765000000000001, -5.2785000000000002, -5.4128999999999996, -5.1703999999999999, -4.1143999999999998, -5.4804000000000004, -5.5136000000000003, -5.4949000000000003, -4.7206999999999999, -5.5167999999999999, -3.1297000000000001, -5.3838999999999997, -5.2320000000000002, -4.7382, -4.7380000000000004, -4.6916000000000002, -5.1792999999999996, -4.7167000000000003, -4.8057999999999996, -4.6311, -5.2088000000000001, -4.9386999999999999, -5.1276000000000002, -5.0170000000000003, -5.0526999999999997, -5.0608000000000004, -4.2733999999999996, -5.0528000000000004, -5.0857999999999999, -5.2186000000000003, -5.2915000000000001, -5.0427999999999997, -5.5137999999999998, -5.0974000000000004, -5.3033000000000001, -5.5751999999999997, -5.2390999999999996, -5.7996999999999996, -4.9775999999999998, -5.6612999999999998, -5.6279000000000003, -4.6013999999999999, -5.0275999999999996, -5.7313999999999998, -5.6505999999999998, -5.7122000000000002, -5.7396000000000003, -5.7491000000000003, -4.6890000000000001, -5.7994000000000003, -5.8585000000000003, -5.3052000000000001, -6.0022000000000002, -5.8342000000000001, -5.8360000000000003, -5.6947999999999999, -4.9771000000000001, -5.4846000000000004, -5.0640999999999998, -5.4901999999999997, -4.9908999999999999, -4.8822999999999999, -5.3300000000000001, -5.2237, -4.4577999999999998, -4.2153, -4.8937999999999997, -5.1612999999999998, -5.2131999999999996, -5.0648, -5.2880000000000003, -5.0805999999999996, -5.2712000000000003, -5.3151000000000002, -5.327, -3.9075000000000002, -3.9706000000000001, -4.5899999999999999, -4.5941999999999998, -4.6097000000000001, -4.6405000000000003, -4.6483999999999996, -4.2255000000000003, -4.5167999999999999, -4.4840999999999998, -5.1100000000000003, -5.1201999999999996, -5.0926, -5.2244999999999999, -3.5358000000000001, -5.2446000000000002, -5.2477999999999998, -5.2161999999999997, -5.2691999999999997, -5.2054999999999998, -5.0776000000000003, -5.3220999999999998, -5.2348999999999997, -5.2541000000000002, -5.0206, -5.2198000000000002, -5.2381000000000002, -4.2968999999999999, -4.9751000000000003, -5.1096000000000004, -5.1184000000000003, -4.8125, -4.5048000000000004, -4.9156000000000004, -4.9196999999999997, -4.7876000000000003, -4.9417999999999997, -4.8288000000000002, -5.0148999999999999, -5.0838999999999999, -5.1424000000000003, -5.4729000000000001, -4.2443, -5.4819000000000004, -3.9420000000000002, -4.5608000000000004, -4.5727000000000002, -5.5797999999999996, -5.6037999999999997, -5.3075000000000001, -5.6578999999999997, -4.9530000000000003, -4.9508000000000001, -5.3712, -5.6700999999999997, -5.6749999999999998, -5.3746, -5.702, -5.7461000000000002, -5.7480000000000002, -5.7465999999999999, -5.7515999999999998, -5.7864000000000004, -5.8036000000000003, -5.6443000000000003, -5.2735000000000003, -5.8067000000000002, -5.7268999999999997, -5.7514000000000003, -4.8075999999999999, -4.3087, -4.7263000000000002, -5.1105999999999998, -4.7760999999999996, -4.8468, -5.3678999999999997, -4.9332000000000003, -4.8044000000000002, -4.5834000000000001, -4.1173999999999999, -4.9980000000000002, -5.1093999999999999, -5.2827000000000002, -5.5495999999999999, -5.3638000000000003, -5.4344000000000001, -5.3342999999999998, -5.3407999999999998, -5.3491, -5.4112999999999998, -5.0659999999999998, -5.5919999999999996, -5.6173999999999999, -5.6513999999999998, -5.7389999999999999, -5.7633999999999999, -5.7561, -5.4829999999999997, -5.7958999999999996, -5.9466999999999999, -5.7748999999999997, -4.0045999999999999, -5.5377999999999998, -4.9527000000000001, -5.532, -5.5444000000000004, -5.8865999999999996, -5.7446000000000002, -5.8727, -5.1627999999999998, -5.5491000000000001, -5.2712000000000003, -5.9132999999999996, -5.9721000000000002, -6.1410999999999998, -5.9635999999999996, -5.9451999999999998, -5.3402000000000003, -5.9713000000000003, -5.9531999999999998, -5.6641000000000004, -4.5301999999999998, -5.6849999999999996, -5.2866, -5.3163, -5.0034999999999998, -5.5354000000000001, -4.5697000000000001, -5.5042, -5.2736999999999998, -5.1275000000000004, -4.9679000000000002, -5.3914, -5.3198999999999996, -4.6064999999999996, -5.0147000000000004, -5.4996999999999998, -5.3708999999999998, -5.3728999999999996, -5.4477000000000002, -5.3526999999999996, -5.4363000000000001, -5.4603999999999999, -5.4917999999999996, -5.4820000000000002, -5.5228000000000002]}};\n",
       "\n",
       "function LDAvis_load_lib(url, callback){\n",
       "  var s = document.createElement('script');\n",
       "  s.src = url;\n",
       "  s.async = true;\n",
       "  s.onreadystatechange = s.onload = callback;\n",
       "  s.onerror = function(){console.warn(\"failed to load library \" + url);};\n",
       "  document.getElementsByTagName(\"head\")[0].appendChild(s);\n",
       "}\n",
       "\n",
       "if(typeof(LDAvis) !== \"undefined\"){\n",
       "   // already loaded: just create the visualization\n",
       "   !function(LDAvis){\n",
       "       new LDAvis(\"#\" + \"ldavis_el1794946975095847754407694\", ldavis_el1794946975095847754407694_data);\n",
       "   }(LDAvis);\n",
       "}else if(typeof define === \"function\" && define.amd){\n",
       "   // require.js is available: use it to load d3/LDAvis\n",
       "   require.config({paths: {d3: \"https://cdnjs.cloudflare.com/ajax/libs/d3/3.5.5/d3.min\"}});\n",
       "   require([\"d3\"], function(d3){\n",
       "      window.d3 = d3;\n",
       "      LDAvis_load_lib(\"https://cdn.rawgit.com/bmabey/pyLDAvis/files/ldavis.v1.0.0.js\", function(){\n",
       "        new LDAvis(\"#\" + \"ldavis_el1794946975095847754407694\", ldavis_el1794946975095847754407694_data);\n",
       "      });\n",
       "    });\n",
       "}else{\n",
       "    // require.js not available: dynamically load d3 & LDAvis\n",
       "    LDAvis_load_lib(\"https://cdnjs.cloudflare.com/ajax/libs/d3/3.5.5/d3.min.js\", function(){\n",
       "         LDAvis_load_lib(\"https://cdn.rawgit.com/bmabey/pyLDAvis/files/ldavis.v1.0.0.js\", function(){\n",
       "                 new LDAvis(\"#\" + \"ldavis_el1794946975095847754407694\", ldavis_el1794946975095847754407694_data);\n",
       "            })\n",
       "         });\n",
       "}\n",
       "</script>"
      ],
      "text/plain": [
       "<IPython.core.display.HTML object>"
      ]
     },
     "execution_count": 20,
     "metadata": {},
     "output_type": "execute_result"
    }
   ],
   "source": [
    "pyLDAvis.enable_notebook()\n",
    "pyLDAvis.display(ap_data)"
   ]
  },
  {
   "cell_type": "code",
   "execution_count": 220,
   "metadata": {
    "collapsed": true,
    "slideshow": {
     "slide_type": "slide"
    }
   },
   "outputs": [],
   "source": [
    "pyLDAvis.save_html(ap_data, '/Users/chengjun/github/workshop/vis/ap_ldavis.html')"
   ]
  },
  {
   "cell_type": "markdown",
   "metadata": {
    "slideshow": {
     "slide_type": "slide"
    }
   },
   "source": [
    "# 阅读材料"
   ]
  },
  {
   "cell_type": "markdown",
   "metadata": {
    "collapsed": true,
    "slideshow": {
     "slide_type": "fragment"
    }
   },
   "source": [
    "Willi Richert, Luis Pedro Coelho, 2013, Building Machine Learning Systems with Python. Chapter 4. Packt Publishing.\n",
    "\n",
    "东风夜放花千树：对宋词进行主题分析初探 http://chengjun.github.io/cn/2013/09/topic-modeling-of-song-peom/\n",
    "\n",
    "\n",
    "Chandra Y, Jiang LC, Wang C-J (2016) Mining Social Entrepreneurship Strategies Using Topic Modeling. PLoS ONE 11(3): e0151342. doi:10.1371/journal.pone.0151342"
   ]
  }
 ],
 "metadata": {
  "celltoolbar": "Slideshow",
  "kernelspec": {
   "display_name": "Python 2",
   "language": "python",
   "name": "python2"
  },
  "language_info": {
   "codemirror_mode": {
    "name": "ipython",
    "version": 2
   },
   "file_extension": ".py",
   "mimetype": "text/x-python",
   "name": "python",
   "nbconvert_exporter": "python",
   "pygments_lexer": "ipython2",
   "version": "2.7.12"
  },
  "latex_envs": {
   "bibliofile": "biblio.bib",
   "cite_by": "apalike",
   "current_citInitial": 1,
   "eqLabelWithNumbers": true,
   "eqNumInitial": 0
  },
  "toc": {
   "toc_cell": false,
   "toc_number_sections": false,
   "toc_section_display": "none",
   "toc_threshold": 6,
   "toc_window_display": true
  }
 },
 "nbformat": 4,
 "nbformat_minor": 0
}
